{
  "nbformat": 4,
  "nbformat_minor": 0,
  "metadata": {
    "colab": {
      "provenance": [],
      "toc_visible": true,
      "include_colab_link": true
    },
    "kernelspec": {
      "name": "python3",
      "display_name": "Python 3"
    },
    "language_info": {
      "name": "python"
    },
    "gpuClass": "standard",
    "accelerator": "GPU"
  },
  "cells": [
    {
      "cell_type": "markdown",
      "metadata": {
        "id": "view-in-github",
        "colab_type": "text"
      },
      "source": [
        "<a href=\"https://colab.research.google.com/github/ribesstefano/GPU-accelerated-Finite-Element-Method-using-Python-and-CUDA/blob/main/TRA105_GPU_accelerated_Computational_Methods_using_Python_and_CUDA.ipynb\" target=\"_parent\"><img src=\"https://colab.research.google.com/assets/colab-badge.svg\" alt=\"Open In Colab\"/></a>"
      ]
    },
    {
      "cell_type": "markdown",
      "source": [
        "# Introduction\n",
        "\n",
        "This report document describes the work done within the course _TRA105 - GPU-accelerated Computational Methods using Python and CUDA_, held at Chalmers University.\n",
        "The main contributions are given by Stefano Ribes, who developed all the high performance code, Kim Louisa Auth, who wrote an initial version of the FEM algorithm, and Fredrik Larsson, who supervised the project.\n",
        "\n",
        "This document is a PDF version of the Jupyter Notebook used to develop, test, and evaluate the proposed software. In the first part, we describe the FEM algorithm from a higher point of view. We then report a simple mechanism to generate \"large enough\" FEM problems. Then, we proceed to evaluate different solver strategies and select the best performing solver algorithm.\n",
        "At this point, we present three different implementation of the K-assembly step in the FEM algorithm. An additional K-assembly implementation based on cell coloring is proposed in the Appendix as a work in progress.\n",
        "In the end, we show an evaluation of the three different proposed K-assembly steps, before drawing our conclusions."
      ],
      "metadata": {
        "id": "eZKoAXVtSRs0"
      }
    },
    {
      "cell_type": "markdown",
      "source": [
        "# Code Setup\n",
        "\n",
        "This section installs the necessary dependencies and downloads the [Github repository](https://github.com/ribesstefano/GPU-accelerated-Finite-Element-Method-using-Python-and-CUDA).\n",
        "\n",
        "In order to run this notebook, please change the runtime type to GPU."
      ],
      "metadata": {
        "id": "tDSbPGTfaM-z"
      }
    },
    {
      "cell_type": "markdown",
      "source": [
        "# Methodology\n",
        "\n",
        "In this section, we cover our methodology, showing the implemented functions and algorithms to accelerate the FEM algorithm computation."
      ],
      "metadata": {
        "id": "aKv0ZM5sIUNh"
      }
    },
    {
      "cell_type": "code",
      "source": [
        "!pip install --upgrade matplotlib==3.4.0 -qqq"
      ],
      "metadata": {
        "id": "6ITn88TGS83V",
        "colab": {
          "base_uri": "https://localhost:8080/"
        },
        "outputId": "005af326-f273-4cf7-fb53-943e10c6820c"
      },
      "execution_count": 1,
      "outputs": [
        {
          "output_type": "stream",
          "name": "stdout",
          "text": [
            "\u001b[?25l     \u001b[90m━━━━━━━━━━━━━━━━━━━━━━━━━━━━━━━━━━━━━━━━\u001b[0m \u001b[32m0.0/10.3 MB\u001b[0m \u001b[31m?\u001b[0m eta \u001b[36m-:--:--\u001b[0m\r\u001b[2K     \u001b[91m━━━━━━━━━━━━━━━━━━━━━━━━\u001b[0m\u001b[90m╺\u001b[0m\u001b[90m━━━━━━━━━━━━━━━\u001b[0m \u001b[32m6.2/10.3 MB\u001b[0m \u001b[31m187.6 MB/s\u001b[0m eta \u001b[36m0:00:01\u001b[0m\r\u001b[2K     \u001b[91m━━━━━━━━━━━━━━━━━━━━━━━━━━━━━━━━━━━━━━\u001b[0m\u001b[91m╸\u001b[0m \u001b[32m10.3/10.3 MB\u001b[0m \u001b[31m175.1 MB/s\u001b[0m eta \u001b[36m0:00:01\u001b[0m\r\u001b[2K     \u001b[90m━━━━━━━━━━━━━━━━━━━━━━━━━━━━━━━━━━━━━━━━\u001b[0m \u001b[32m10.3/10.3 MB\u001b[0m \u001b[31m97.1 MB/s\u001b[0m eta \u001b[36m0:00:00\u001b[0m\n",
            "\u001b[?25h"
          ]
        }
      ]
    },
    {
      "cell_type": "code",
      "source": [
        "repository = 'GPU-accelerated-Finite-Element-Method-using-Python-and-CUDA'\n",
        "!git clone https://github.com/ribesstefano/{repository}.git"
      ],
      "metadata": {
        "id": "QRNzrZmM1ah9",
        "colab": {
          "base_uri": "https://localhost:8080/"
        },
        "outputId": "9aa29ea1-c256-434f-ae4d-1c1c4c82ee31"
      },
      "execution_count": 2,
      "outputs": [
        {
          "output_type": "stream",
          "name": "stdout",
          "text": [
            "Cloning into 'GPU-accelerated-Finite-Element-Method-using-Python-and-CUDA'...\n",
            "remote: Enumerating objects: 179, done.\u001b[K\n",
            "remote: Counting objects: 100% (179/179), done.\u001b[K\n",
            "remote: Compressing objects: 100% (99/99), done.\u001b[K\n",
            "remote: Total 179 (delta 99), reused 137 (delta 73), pack-reused 0\u001b[K\n",
            "Receiving objects: 100% (179/179), 1.45 MiB | 14.51 MiB/s, done.\n",
            "Resolving deltas: 100% (99/99), done.\n"
          ]
        }
      ]
    },
    {
      "cell_type": "code",
      "source": [
        "!pip install pygmsh -qqq\n",
        "!pip install --upgrade scipy -qqq\n",
        "!pip install --upgrade --no-cache-dir gdown -qqq"
      ],
      "metadata": {
        "id": "VdEKRKx82JB4",
        "colab": {
          "base_uri": "https://localhost:8080/"
        },
        "outputId": "0d220c11-fd4e-498e-df73-f4a4d3471b13"
      },
      "execution_count": 3,
      "outputs": [
        {
          "output_type": "stream",
          "name": "stdout",
          "text": [
            "\u001b[2K     \u001b[90m━━━━━━━━━━━━━━━━━━━━━━━━━━━━━━━━━━━━━━━━\u001b[0m \u001b[32m45.4/45.4 KB\u001b[0m \u001b[31m5.5 MB/s\u001b[0m eta \u001b[36m0:00:00\u001b[0m\n",
            "\u001b[2K     \u001b[90m━━━━━━━━━━━━━━━━━━━━━━━━━━━━━━━━━━━━━━━━\u001b[0m \u001b[32m38.8/38.8 MB\u001b[0m \u001b[31m16.2 MB/s\u001b[0m eta \u001b[36m0:00:00\u001b[0m\n",
            "\u001b[2K     \u001b[90m━━━━━━━━━━━━━━━━━━━━━━━━━━━━━━━━━━━━━━\u001b[0m \u001b[32m167.7/167.7 KB\u001b[0m \u001b[31m24.6 MB/s\u001b[0m eta \u001b[36m0:00:00\u001b[0m\n",
            "\u001b[2K     \u001b[90m━━━━━━━━━━━━━━━━━━━━━━━━━━━━━━━━━━━━━━\u001b[0m \u001b[32m239.0/239.0 KB\u001b[0m \u001b[31m24.5 MB/s\u001b[0m eta \u001b[36m0:00:00\u001b[0m\n",
            "\u001b[2K     \u001b[90m━━━━━━━━━━━━━━━━━━━━━━━━━━━━━━━━━━━━━━━━\u001b[0m \u001b[32m1.1/1.1 MB\u001b[0m \u001b[31m75.8 MB/s\u001b[0m eta \u001b[36m0:00:00\u001b[0m\n",
            "\u001b[2K     \u001b[90m━━━━━━━━━━━━━━━━━━━━━━━━━━━━━━━━━━━━━━━━\u001b[0m \u001b[32m84.5/84.5 KB\u001b[0m \u001b[31m13.7 MB/s\u001b[0m eta \u001b[36m0:00:00\u001b[0m\n",
            "\u001b[?25h\u001b[31mERROR: pip's dependency resolver does not currently take into account all the packages that are installed. This behaviour is the source of the following dependency conflicts.\n",
            "ipython 7.9.0 requires jedi>=0.10, which is not installed.\u001b[0m\u001b[31m\n",
            "\u001b[2K     \u001b[90m━━━━━━━━━━━━━━━━━━━━━━━━━━━━━━━━━━━━━━━━\u001b[0m \u001b[32m34.5/34.5 MB\u001b[0m \u001b[31m13.4 MB/s\u001b[0m eta \u001b[36m0:00:00\u001b[0m\n",
            "\u001b[?25h"
          ]
        }
      ]
    },
    {
      "cell_type": "code",
      "execution_count": 4,
      "metadata": {
        "id": "ZnKn0w0Uugde"
      },
      "outputs": [],
      "source": [
        "%%capture\n",
        "%cd {repository}\n",
        "\n",
        "from BasicFEM import *\n",
        "# Math and SciPy\n",
        "import math\n",
        "import scipy.sparse\n",
        "import scipy.sparse.linalg\n",
        "from scipy.sparse import coo_matrix\n",
        "# Profiling\n",
        "import time\n",
        "import timeit\n",
        "import cProfile\n",
        "import pstats\n",
        "# Plotting\n",
        "import matplotlib.pyplot as plt\n",
        "import matplotlib.tri as tri\n",
        "import seaborn as sns\n",
        "# Acceleration\n",
        "# !NUMBA_ENABLE_CUDASIM=1 # To run CUDA in simulation mode \n",
        "import numpy as np\n",
        "import numba as nb\n",
        "from numba import njit, prange\n",
        "from numba.typed import Dict\n",
        "from numba.core import types\n",
        "from numba.types import float32\n",
        "\n",
        "%cd .."
      ]
    },
    {
      "cell_type": "markdown",
      "source": [
        "## FEM Problem Implementation\n",
        "\n",
        "In this section we define and visualize a simple FEM problem and its mesh, _i.e._, grid.\n",
        "\n",
        "The analyzed grid is defined as a mesh of 2D triangular cell elements, each referencing three nodes IDs. Each node is defined in a 2D coordinate system. We also limit our problem to two Degree of Freedom (DoF) per node.\n",
        "The length characteristic `lcar` of a grid can be adjusted in order to generate grids with different numbers of cells.\n",
        "\n",
        "We can create such a grid with the function `generate_grid`. The function exploits the Pygmsh Python library. The library  does show some limitations and bugs, and it's not ideal for generating large meshes. Nevertheless, it is a convenient way for checking the correctness of our implementation.\n",
        "\n",
        "A DoF handler object is instantiated given a grid and represents a useful wrapper of the FEM problem."
      ],
      "metadata": {
        "id": "VvrzNWWTaREK"
      }
    },
    {
      "cell_type": "code",
      "source": [
        "grid = generate_grid(lcar=0.5)\n",
        "dh = DofHandler(n_dofs_per_node=2, grid=grid)\n",
        "grid.plot()"
      ],
      "metadata": {
        "colab": {
          "base_uri": "https://localhost:8080/",
          "height": 265
        },
        "id": "g72G2a2D29St",
        "outputId": "1c083c4f-b822-42a1-dbc6-7f3bdeae4f03"
      },
      "execution_count": 5,
      "outputs": [
        {
          "output_type": "display_data",
          "data": {
            "text/plain": [
              "<Figure size 432x288 with 1 Axes>"
            ],
            "image/png": "[encoded data removed]"
          },
          "metadata": {
            "needs_background": "light"
          }
        }
      ]
    },
    {
      "cell_type": "markdown",
      "source": [
        "The DoF handler allows us to define the _nodal forces_ vector $a$. The $y$ components of the top DoFs are set to $-0.1^{[2]}$.\n",
        "\n",
        "[2] Due to the limitations mentioned earlier, Pygmsh is unable to correctly identify all top DoFs. Because of that, the resulting nodal displacements will appear wrong in the top right corner. We haven't implemented a work-around for this issue, but we believe that such missing information would not make our implementation lose generality."
      ],
      "metadata": {
        "id": "EFtF2YubTRZ6"
      }
    },
    {
      "cell_type": "code",
      "source": [
        "top_dofs = dh.get_nodes_dofs(grid.nodesets['top'])\n",
        "a = np.zeros(dh.get_ndofs_total())\n",
        "a[top_dofs[:, 1]] = -0.1\n",
        "a"
      ],
      "metadata": {
        "colab": {
          "base_uri": "https://localhost:8080/"
        },
        "id": "K_DgeKpZ32kf",
        "outputId": "cf40b78a-1569-46f2-9d13-251bb35c058c"
      },
      "execution_count": 6,
      "outputs": [
        {
          "output_type": "execute_result",
          "data": {
            "text/plain": [
              "array([ 0. ,  0. ,  0. ,  0. ,  0. ,  0. ,  0. ,  0. ,  0. ,  0. ,  0. ,\n",
              "        0. ,  0. ,  0. ,  0. ,  0. ,  0. ,  0. ,  0. ,  0. ,  0. ,  0. ,\n",
              "        0. ,  0. ,  0. , -0.1,  0. , -0.1,  0. , -0.1,  0. , -0.1,  0. ,\n",
              "        0. ,  0. ,  0. ,  0. ,  0. ,  0. ,  0. ,  0. ,  0. ,  0. ,  0. ,\n",
              "        0. ,  0. ,  0. ,  0. ,  0. ,  0. ,  0. ,  0. ,  0. ,  0. ,  0. ,\n",
              "        0. ,  0. ,  0. ,  0. ,  0. ,  0. ,  0. ,  0. ,  0. ,  0. ,  0. ,\n",
              "        0. ,  0. ,  0. ,  0. ,  0. ,  0. ,  0. ,  0. ,  0. ,  0. ,  0. ,\n",
              "        0. ,  0. ,  0. ,  0. ,  0. ,  0. ,  0. ,  0. ,  0. ,  0. ,  0. ,\n",
              "        0. ,  0. ,  0. ,  0. ,  0. ,  0. ,  0. ,  0. ,  0. ,  0. ,  0. ,\n",
              "        0. ,  0. ,  0. ,  0. ,  0. ,  0. ,  0. ,  0. ,  0. ,  0. ,  0. ,\n",
              "        0. ,  0. ,  0. ,  0. ,  0. ,  0. ,  0. ,  0. ,  0. ,  0. ,  0. ,\n",
              "        0. ,  0. ,  0. ,  0. ,  0. ,  0. ,  0. ,  0. ,  0. ,  0. ,  0. ,\n",
              "        0. ,  0. ,  0. ,  0. ])"
            ]
          },
          "metadata": {},
          "execution_count": 6
        }
      ]
    },
    {
      "cell_type": "markdown",
      "source": [
        "The DoF handler can also be used to extract the non-zero indexes of the global stiffness matrix $K$. Once the indexes are now, an empty Scipy sparse matrix can be instantiated."
      ],
      "metadata": {
        "id": "Glg5NWk9tXSR"
      }
    },
    {
      "cell_type": "code",
      "source": [
        "def init_Kf(dh, as_dok=False):\n",
        "    if as_dok:\n",
        "        row_idx, col_idx, K_shape = dh.get_sparsity_pattern(return_shape=True)\n",
        "        K = scipy.sparse.dok_matrix(K_shape, dtype=np.float32)\n",
        "    else:\n",
        "        row_idx, col_idx = dh.get_sparsity_pattern()\n",
        "        K = scipy.sparse.csr_matrix((np.zeros(len(row_idx)), (row_idx, col_idx)))\n",
        "    f = np.zeros(len(row_idx))\n",
        "    return K, f\n",
        "\n",
        "K, f = init_Kf(dh)"
      ],
      "metadata": {
        "id": "9rxh0qQQ4Sqs"
      },
      "execution_count": 7,
      "outputs": []
    },
    {
      "cell_type": "markdown",
      "source": [
        "Finally, we can wrap all the above information in a single function generating our selected FEM problem, accordingly."
      ],
      "metadata": {
        "id": "JLpI3KG5txaJ"
      }
    },
    {
      "cell_type": "code",
      "source": [
        "def generate_fem_problem(lcar=0.1, return_Kf=False, as_dok=False, grid=None,\n",
        "                         dh=None):\n",
        "    if grid is None and dh is None:\n",
        "        grid = generate_grid(lcar)\n",
        "    if dh is None:\n",
        "        dh = DofHandler(n_dofs_per_node=2, grid=grid)\n",
        "    # Prescribe a vector\n",
        "    a = np.zeros(dh.get_ndofs_total())\n",
        "    bottom_dofs = dh.get_nodes_dofs(dh.grid.nodesets['bottom'])\n",
        "    left_dofs = dh.get_nodes_dofs(dh.grid.nodesets['left'])\n",
        "    top_dofs = dh.get_nodes_dofs(dh.grid.nodesets['top'])\n",
        "    prescribed_dofs = (bottom_dofs[:, 1], left_dofs[:, 0], top_dofs[:, 1])\n",
        "    prescribed_dofs = np.concatenate(prescribed_dofs)\n",
        "    free_dofs = np.setdiff1d(range(dh.get_ndofs_total()), prescribed_dofs)\n",
        "    a[top_dofs[:, 1]] = -0.1\n",
        "    dofs = {\n",
        "        'bottom': bottom_dofs,\n",
        "        'left': left_dofs,\n",
        "        'top': top_dofs,\n",
        "        'prescribed': prescribed_dofs,\n",
        "        'free': free_dofs,\n",
        "    }\n",
        "    # Init weak form handler\n",
        "    weak_form = MomentumBalance(material=Elasticity(E=200e3, nu=0.3),\n",
        "                                thickness=1.0,\n",
        "                                element=CST())\n",
        "    if return_Kf:\n",
        "        # Init K and f components\n",
        "        K, f = init_Kf(dh, as_dok)\n",
        "        return K, f, a, weak_form, dh, dofs\n",
        "    else:\n",
        "        return a, weak_form, dh, dofs\n",
        "\n",
        "a, weak_form, dh, dofs_glob = generate_fem_problem(lcar=0.5)"
      ],
      "metadata": {
        "id": "UD8er-uW8Br3"
      },
      "execution_count": 8,
      "outputs": []
    },
    {
      "cell_type": "markdown",
      "source": [
        "### Generating Large Meshes\n",
        "\n",
        "The problem defined above is easy to investigate and therefore useful for inspecting the correctness of the different variations of our analysis.\n",
        "\n",
        "However, for testing our implementation for very large problems, _i.e._, when having a number of cells in the order of millions, we developed a function to generate random coordinates and then triangulate them via [Delaunay triangulation](https://docs.scipy.org/doc/scipy/reference/generated/scipy.spatial.Delaunay.html).\n",
        "\n",
        "In order to speed up some parts of the generation, we rely on Numba JIT compilation.\n",
        "To start with, we define as global variables the constant parameters of the FEM problem, _e.g._, the number of DoF per node. This will allow us for better handling of the array sizes within the jitted Numba functions."
      ],
      "metadata": {
        "id": "eVeW0uS5bm4G"
      }
    },
    {
      "cell_type": "code",
      "source": [
        "a, weak_form, dh, dofs = generate_fem_problem(lcar=0.5)\n",
        "\n",
        "n_dims = dh.grid.n_dim\n",
        "n_nodes_per_cell = dh.grid.get_num_nodes_per_cell()\n",
        "n_dofs_per_cell = dh.get_ndofs_per_cell()\n",
        "n_dofs_per_node = dh.n_dofs_per_node\n",
        "stiffness_shape = weak_form.material.stiffness.shape\n",
        "weights_shape = weak_form.element.weights.shape"
      ],
      "metadata": {
        "id": "3rod3w2p9YtZ"
      },
      "execution_count": 9,
      "outputs": []
    },
    {
      "cell_type": "markdown",
      "source": [
        "Next, in order to populate the DoF information, we designed a custom Numba function `get_cells_dofs`. Note the use of `prange`: each cell can be processed independently, so we hint the compiler to parallelize over that dimension, _i.e._, axis."
      ],
      "metadata": {
        "id": "LK6SnrKtIzT7"
      }
    },
    {
      "cell_type": "code",
      "source": [
        "@nb.jit(nopython=True, cache=True, parallel=True)\n",
        "def get_cells_dofs(cells, n_dofs_per_cell=n_dofs_per_cell, n_dofs=n_dofs_per_node):\n",
        "    n_cells = cells.shape[0]\n",
        "    dofs = np.empty((n_cells, n_dofs_per_cell), dtype=np.int32)\n",
        "    for i in prange(n_cells):\n",
        "        for j, nodeid in enumerate(cells[i]):\n",
        "                for d in range(n_dofs):\n",
        "                    dofs[i, j * n_dofs + d] = nodeid * n_dofs + d\n",
        "    return dofs"
      ],
      "metadata": {
        "id": "hryrOZPhtoKN"
      },
      "execution_count": 41,
      "outputs": []
    },
    {
      "cell_type": "markdown",
      "source": [
        "Finally, the function is used to generate the FEM problems. The information about the grid, such as nodes coordinates, triangulation and sets, is stored on disk to be reused across multiple runs."
      ],
      "metadata": {
        "id": "C7vUHKEWJRRr"
      }
    },
    {
      "cell_type": "code",
      "source": [
        "from scipy.spatial import Delaunay\n",
        "import os\n",
        "\n",
        "def generate_rand_fem_problem(n_nodes=int(3e3), filename='randgrid.npz'):\n",
        "    \"\"\"\n",
        "    If supplied, read filename containing compressed Numpy array.\n",
        "    \"\"\"\n",
        "    if os.path.isfile(filename):\n",
        "        print(f'File {filename} loaded.')\n",
        "        data = np.load(filename)\n",
        "        nodes = data['nodes']\n",
        "        cells = data['cells']\n",
        "        nodesets = {\n",
        "            'bottom': data['bottom'],\n",
        "            'left': data['left'],\n",
        "            'top': data['top'],\n",
        "        }\n",
        "    else:\n",
        "        nodes = np.random.rand(n_nodes, n_dims).astype(np.float32)\n",
        "        cells = Delaunay(nodes).simplices.astype(np.int32)\n",
        "        set_sz = int(0.2 * n_nodes)\n",
        "        nodesets = {\n",
        "            'bottom': np.random.choice(np.arange(n_nodes), size=set_sz).astype(np.int32),\n",
        "            'left': np.random.choice(np.arange(n_nodes), size=set_sz).astype(np.int32),\n",
        "            'top': np.random.choice(np.arange(n_nodes), size=set_sz).astype(np.int32),\n",
        "        }\n",
        "        np.savez_compressed(filename, nodes=nodes, cells=cells,\n",
        "                            bottom=nodesets['bottom'],\n",
        "                            left=nodesets['left'],\n",
        "                            top=nodesets['top'])\n",
        "    # Generate small mesh to be overwritten\n",
        "    grid = generate_grid(lcar=0.9)\n",
        "    dh = DofHandler(n_dofs_per_node=2, grid=grid)\n",
        "    # Update grid and dh with a much bigger random problem\n",
        "    dh.grid = Grid(nodes, cells, nodesets)\n",
        "    dh.cells_dofs = get_cells_dofs(dh.grid.cells)\n",
        "    # Generate the rest of the components\n",
        "    return generate_fem_problem(dh=dh)\n",
        "\n",
        "a, weak_form, dh, dofs_glob = generate_rand_fem_problem(n_nodes=int(3e3))"
      ],
      "metadata": {
        "id": "apzHdFRTvXXy",
        "colab": {
          "base_uri": "https://localhost:8080/"
        },
        "outputId": "ac403e8d-714b-4ea7-b64d-8bdd38fa9e61"
      },
      "execution_count": 42,
      "outputs": [
        {
          "output_type": "stream",
          "name": "stdout",
          "text": [
            "File randgrid.npz loaded.\n"
          ]
        }
      ]
    },
    {
      "cell_type": "markdown",
      "source": [
        "## Solver Evaluation\n",
        "\n",
        "We begin by identifying the best performing solver algorithm among the available ones provided by the SciPy and CuPy packages. For brevity, here we only report the final evaluation results, but the code implementation can be inspected at this [link](https://github.com/ribesstefano/GPU-accelerated-Finite-Element-Method-using-Python-and-CUDA/blob/main/test/profile_gpu_solvers.py)."
      ],
      "metadata": {
        "id": "qLR3c-tRxziz"
      }
    },
    {
      "cell_type": "code",
      "source": [
        "import pandas as pd\n",
        "import os\n",
        "\n",
        "df = pd.read_csv(os.path.join(repository, 'data', 'solver_evaluation_results.csv'))\n",
        "\n",
        "df['K dimensions'] = df['n_nodes'] * n_dofs_per_node\n",
        "df['Normalized Execution Time'] = df['Execution Time [s]']\n",
        "# NOTE: The cgs solver is just too much of an outsider, so we remove it\n",
        "df = df.drop(df[df['Solver'] == 'cgs'].index)\n",
        "\n",
        "for n_cells in df['Number of Cells'].unique():\n",
        "    selected_cells = df['Number of Cells'] == n_cells\n",
        "    exec_t = df.loc[selected_cells, 'Execution Time [s]']\n",
        "    max_t = df.loc[selected_cells, 'Execution Time [s]'].max()\n",
        "    df.loc[selected_cells, 'Normalized Execution Time'] /= max_t\n",
        "\n",
        "df_cpu = df[df['Device'] == 'Xeon']\n",
        "df_gpu = df[df['Device'] == 'GTX 1050']\n",
        "df"
      ],
      "metadata": {
        "id": "aiMfGABv3he9",
        "colab": {
          "base_uri": "https://localhost:8080/",
          "height": 1000
        },
        "outputId": "90e4cb8a-2bd2-4353-df8c-77747011d303"
      },
      "execution_count": 10,
      "outputs": [
        {
          "output_type": "execute_result",
          "data": {
            "text/plain": [
              "      Solver  lcar  n_nodes  Number of Cells  n_runs    Device  \\\n",
              "0    spsolve  0.50       29               38      20      Xeon   \n",
              "1       bicg  0.50       29               38      20      Xeon   \n",
              "2   bicgstab  0.50       29               38      20      Xeon   \n",
              "3         cg  0.50       29               38      20      Xeon   \n",
              "5      gmres  0.50       29               38      20      Xeon   \n",
              "6     lgmres  0.50       29               38      20      Xeon   \n",
              "7     minres  0.50       29               38      20      Xeon   \n",
              "8        qmr  0.50       29               38      20      Xeon   \n",
              "9    gcrotmk  0.50       29               38      20      Xeon   \n",
              "10     tfqmr  0.50       29               38      20      Xeon   \n",
              "11   spsolve  0.10      428              776      20      Xeon   \n",
              "12      bicg  0.10      428              776      20      Xeon   \n",
              "13  bicgstab  0.10      428              776      20      Xeon   \n",
              "14        cg  0.10      428              776      20      Xeon   \n",
              "16     gmres  0.10      428              776      20      Xeon   \n",
              "17    lgmres  0.10      428              776      20      Xeon   \n",
              "18    minres  0.10      428              776      20      Xeon   \n",
              "19       qmr  0.10      428              776      20      Xeon   \n",
              "20   gcrotmk  0.10      428              776      20      Xeon   \n",
              "21     tfqmr  0.10      428              776      20      Xeon   \n",
              "22   spsolve  0.05     1604             3052      20      Xeon   \n",
              "23      bicg  0.05     1604             3052      20      Xeon   \n",
              "24  bicgstab  0.05     1604             3052      20      Xeon   \n",
              "25        cg  0.05     1604             3052      20      Xeon   \n",
              "27     gmres  0.05     1604             3052      20      Xeon   \n",
              "28    lgmres  0.05     1604             3052      20      Xeon   \n",
              "29    minres  0.05     1604             3052      20      Xeon   \n",
              "30       qmr  0.05     1604             3052      20      Xeon   \n",
              "31   gcrotmk  0.05     1604             3052      20      Xeon   \n",
              "32     tfqmr  0.05     1604             3052      20      Xeon   \n",
              "33   spsolve  0.01    37836            74910      20      Xeon   \n",
              "34      bicg  0.01    37836            74910      20      Xeon   \n",
              "35  bicgstab  0.01    37836            74910      20      Xeon   \n",
              "36        cg  0.01    37836            74910      20      Xeon   \n",
              "38     gmres  0.01    37836            74910      20      Xeon   \n",
              "39    lgmres  0.01    37836            74910      20      Xeon   \n",
              "40    minres  0.01    37836            74910      20      Xeon   \n",
              "41       qmr  0.01    37836            74910      20      Xeon   \n",
              "42   gcrotmk  0.01    37836            74910      20      Xeon   \n",
              "43     tfqmr  0.01    37836            74910      20      Xeon   \n",
              "44   spsolve  0.50       29               38      10  GTX 1050   \n",
              "45        cg  0.50       29               38      10  GTX 1050   \n",
              "46     gmres  0.50       29               38      10  GTX 1050   \n",
              "47    minres  0.50       29               38      10  GTX 1050   \n",
              "48   spsolve  0.10      428              776      10  GTX 1050   \n",
              "49        cg  0.10      428              776      10  GTX 1050   \n",
              "50     gmres  0.10      428              776      10  GTX 1050   \n",
              "51    minres  0.10      428              776      10  GTX 1050   \n",
              "52   spsolve  0.05     1604             3052      10  GTX 1050   \n",
              "53        cg  0.05     1604             3052      10  GTX 1050   \n",
              "54     gmres  0.05     1604             3052      10  GTX 1050   \n",
              "55    minres  0.05     1604             3052      10  GTX 1050   \n",
              "56   spsolve  0.01    37836            74910      10  GTX 1050   \n",
              "57        cg  0.01    37836            74910      10  GTX 1050   \n",
              "58     gmres  0.01    37836            74910      10  GTX 1050   \n",
              "59    minres  0.01    37836            74910      10  GTX 1050   \n",
              "\n",
              "    Execution Time [s]  K dimensions  Normalized Execution Time  \n",
              "0               0.0001            58                   0.001739  \n",
              "1               0.0017            58                   0.029565  \n",
              "2               0.0012            58                   0.020870  \n",
              "3               0.0010            58                   0.017391  \n",
              "5               0.0013            58                   0.022609  \n",
              "6               0.0030            58                   0.052174  \n",
              "7               0.0013            58                   0.022609  \n",
              "8               0.0019            58                   0.033043  \n",
              "9               0.0021            58                   0.036522  \n",
              "10              0.0018            58                   0.031304  \n",
              "11              0.0017           856                   0.027732  \n",
              "12              0.0084           856                   0.137031  \n",
              "13              0.0060           856                   0.097879  \n",
              "14              0.0046           856                   0.075041  \n",
              "16              0.0110           856                   0.179445  \n",
              "17              0.0112           856                   0.182708  \n",
              "18              0.0033           856                   0.053834  \n",
              "19              0.0095           856                   0.154976  \n",
              "20              0.0097           856                   0.158238  \n",
              "21              0.0095           856                   0.154976  \n",
              "22              0.0110          3208                   0.063731  \n",
              "23              0.0299          3208                   0.173233  \n",
              "24              0.0213          3208                   0.123407  \n",
              "25              0.0149          3208                   0.086327  \n",
              "27              0.0671          3208                   0.388760  \n",
              "28              0.0264          3208                   0.152955  \n",
              "29              0.0063          3208                   0.036501  \n",
              "30              0.0313          3208                   0.181344  \n",
              "31              0.0286          3208                   0.165701  \n",
              "32              0.0382          3208                   0.221321  \n",
              "33              1.2001         75672                   0.042173  \n",
              "34              8.0172         75672                   0.281735  \n",
              "35              3.3653         75672                   0.118261  \n",
              "36              2.5096         75672                   0.088191  \n",
              "38             28.4565         75672                   1.000000  \n",
              "39              1.6956         75672                   0.059586  \n",
              "40              0.1698         75672                   0.005967  \n",
              "41              5.0055         75672                   0.175900  \n",
              "42              1.9213         75672                   0.067517  \n",
              "43             13.5836         75672                   0.477346  \n",
              "44              0.0575            58                   1.000000  \n",
              "45              0.0247            58                   0.429565  \n",
              "46              0.0143            58                   0.248696  \n",
              "47              0.0238            58                   0.413913  \n",
              "48              0.0161           856                   0.262643  \n",
              "49              0.0374           856                   0.610114  \n",
              "50              0.0613           856                   1.000000  \n",
              "51              0.0369           856                   0.601958  \n",
              "52              0.0706          3208                   0.409038  \n",
              "53              0.0660          3208                   0.382387  \n",
              "54              0.1726          3208                   1.000000  \n",
              "55              0.0457          3208                   0.264774  \n",
              "56              9.8619         75672                   0.346561  \n",
              "57              0.4239         75672                   0.014896  \n",
              "58              4.3324         75672                   0.152246  \n",
              "59              0.0720         75672                   0.002530  "
            ],
            "text/html": [
              "\n",
              "  <div id=\"df-4b770c92-9f63-459d-b098-eb7c2bf15b4d\">\n",
              "    <div class=\"colab-df-container\">\n",
              "      <div>\n",
              "<style scoped>\n",
              "    .dataframe tbody tr th:only-of-type {\n",
              "        vertical-align: middle;\n",
              "    }\n",
              "\n",
              "    .dataframe tbody tr th {\n",
              "        vertical-align: top;\n",
              "    }\n",
              "\n",
              "    .dataframe thead th {\n",
              "        text-align: right;\n",
              "    }\n",
              "</style>\n",
              "<table border=\"1\" class=\"dataframe\">\n",
              "  <thead>\n",
              "    <tr style=\"text-align: right;\">\n",
              "      <th></th>\n",
              "      <th>Solver</th>\n",
              "      <th>lcar</th>\n",
              "      <th>n_nodes</th>\n",
              "      <th>Number of Cells</th>\n",
              "      <th>n_runs</th>\n",
              "      <th>Device</th>\n",
              "      <th>Execution Time [s]</th>\n",
              "      <th>K dimensions</th>\n",
              "      <th>Normalized Execution Time</th>\n",
              "    </tr>\n",
              "  </thead>\n",
              "  <tbody>\n",
              "    <tr>\n",
              "      <th>0</th>\n",
              "      <td>spsolve</td>\n",
              "      <td>0.50</td>\n",
              "      <td>29</td>\n",
              "      <td>38</td>\n",
              "      <td>20</td>\n",
              "      <td>Xeon</td>\n",
              "      <td>0.0001</td>\n",
              "      <td>58</td>\n",
              "      <td>0.001739</td>\n",
              "    </tr>\n",
              "    <tr>\n",
              "      <th>1</th>\n",
              "      <td>bicg</td>\n",
              "      <td>0.50</td>\n",
              "      <td>29</td>\n",
              "      <td>38</td>\n",
              "      <td>20</td>\n",
              "      <td>Xeon</td>\n",
              "      <td>0.0017</td>\n",
              "      <td>58</td>\n",
              "      <td>0.029565</td>\n",
              "    </tr>\n",
              "    <tr>\n",
              "      <th>2</th>\n",
              "      <td>bicgstab</td>\n",
              "      <td>0.50</td>\n",
              "      <td>29</td>\n",
              "      <td>38</td>\n",
              "      <td>20</td>\n",
              "      <td>Xeon</td>\n",
              "      <td>0.0012</td>\n",
              "      <td>58</td>\n",
              "      <td>0.020870</td>\n",
              "    </tr>\n",
              "    <tr>\n",
              "      <th>3</th>\n",
              "      <td>cg</td>\n",
              "      <td>0.50</td>\n",
              "      <td>29</td>\n",
              "      <td>38</td>\n",
              "      <td>20</td>\n",
              "      <td>Xeon</td>\n",
              "      <td>0.0010</td>\n",
              "      <td>58</td>\n",
              "      <td>0.017391</td>\n",
              "    </tr>\n",
              "    <tr>\n",
              "      <th>5</th>\n",
              "      <td>gmres</td>\n",
              "      <td>0.50</td>\n",
              "      <td>29</td>\n",
              "      <td>38</td>\n",
              "      <td>20</td>\n",
              "      <td>Xeon</td>\n",
              "      <td>0.0013</td>\n",
              "      <td>58</td>\n",
              "      <td>0.022609</td>\n",
              "    </tr>\n",
              "    <tr>\n",
              "      <th>6</th>\n",
              "      <td>lgmres</td>\n",
              "      <td>0.50</td>\n",
              "      <td>29</td>\n",
              "      <td>38</td>\n",
              "      <td>20</td>\n",
              "      <td>Xeon</td>\n",
              "      <td>0.0030</td>\n",
              "      <td>58</td>\n",
              "      <td>0.052174</td>\n",
              "    </tr>\n",
              "    <tr>\n",
              "      <th>7</th>\n",
              "      <td>minres</td>\n",
              "      <td>0.50</td>\n",
              "      <td>29</td>\n",
              "      <td>38</td>\n",
              "      <td>20</td>\n",
              "      <td>Xeon</td>\n",
              "      <td>0.0013</td>\n",
              "      <td>58</td>\n",
              "      <td>0.022609</td>\n",
              "    </tr>\n",
              "    <tr>\n",
              "      <th>8</th>\n",
              "      <td>qmr</td>\n",
              "      <td>0.50</td>\n",
              "      <td>29</td>\n",
              "      <td>38</td>\n",
              "      <td>20</td>\n",
              "      <td>Xeon</td>\n",
              "      <td>0.0019</td>\n",
              "      <td>58</td>\n",
              "      <td>0.033043</td>\n",
              "    </tr>\n",
              "    <tr>\n",
              "      <th>9</th>\n",
              "      <td>gcrotmk</td>\n",
              "      <td>0.50</td>\n",
              "      <td>29</td>\n",
              "      <td>38</td>\n",
              "      <td>20</td>\n",
              "      <td>Xeon</td>\n",
              "      <td>0.0021</td>\n",
              "      <td>58</td>\n",
              "      <td>0.036522</td>\n",
              "    </tr>\n",
              "    <tr>\n",
              "      <th>10</th>\n",
              "      <td>tfqmr</td>\n",
              "      <td>0.50</td>\n",
              "      <td>29</td>\n",
              "      <td>38</td>\n",
              "      <td>20</td>\n",
              "      <td>Xeon</td>\n",
              "      <td>0.0018</td>\n",
              "      <td>58</td>\n",
              "      <td>0.031304</td>\n",
              "    </tr>\n",
              "    <tr>\n",
              "      <th>11</th>\n",
              "      <td>spsolve</td>\n",
              "      <td>0.10</td>\n",
              "      <td>428</td>\n",
              "      <td>776</td>\n",
              "      <td>20</td>\n",
              "      <td>Xeon</td>\n",
              "      <td>0.0017</td>\n",
              "      <td>856</td>\n",
              "      <td>0.027732</td>\n",
              "    </tr>\n",
              "    <tr>\n",
              "      <th>12</th>\n",
              "      <td>bicg</td>\n",
              "      <td>0.10</td>\n",
              "      <td>428</td>\n",
              "      <td>776</td>\n",
              "      <td>20</td>\n",
              "      <td>Xeon</td>\n",
              "      <td>0.0084</td>\n",
              "      <td>856</td>\n",
              "      <td>0.137031</td>\n",
              "    </tr>\n",
              "    <tr>\n",
              "      <th>13</th>\n",
              "      <td>bicgstab</td>\n",
              "      <td>0.10</td>\n",
              "      <td>428</td>\n",
              "      <td>776</td>\n",
              "      <td>20</td>\n",
              "      <td>Xeon</td>\n",
              "      <td>0.0060</td>\n",
              "      <td>856</td>\n",
              "      <td>0.097879</td>\n",
              "    </tr>\n",
              "    <tr>\n",
              "      <th>14</th>\n",
              "      <td>cg</td>\n",
              "      <td>0.10</td>\n",
              "      <td>428</td>\n",
              "      <td>776</td>\n",
              "      <td>20</td>\n",
              "      <td>Xeon</td>\n",
              "      <td>0.0046</td>\n",
              "      <td>856</td>\n",
              "      <td>0.075041</td>\n",
              "    </tr>\n",
              "    <tr>\n",
              "      <th>16</th>\n",
              "      <td>gmres</td>\n",
              "      <td>0.10</td>\n",
              "      <td>428</td>\n",
              "      <td>776</td>\n",
              "      <td>20</td>\n",
              "      <td>Xeon</td>\n",
              "      <td>0.0110</td>\n",
              "      <td>856</td>\n",
              "      <td>0.179445</td>\n",
              "    </tr>\n",
              "    <tr>\n",
              "      <th>17</th>\n",
              "      <td>lgmres</td>\n",
              "      <td>0.10</td>\n",
              "      <td>428</td>\n",
              "      <td>776</td>\n",
              "      <td>20</td>\n",
              "      <td>Xeon</td>\n",
              "      <td>0.0112</td>\n",
              "      <td>856</td>\n",
              "      <td>0.182708</td>\n",
              "    </tr>\n",
              "    <tr>\n",
              "      <th>18</th>\n",
              "      <td>minres</td>\n",
              "      <td>0.10</td>\n",
              "      <td>428</td>\n",
              "      <td>776</td>\n",
              "      <td>20</td>\n",
              "      <td>Xeon</td>\n",
              "      <td>0.0033</td>\n",
              "      <td>856</td>\n",
              "      <td>0.053834</td>\n",
              "    </tr>\n",
              "    <tr>\n",
              "      <th>19</th>\n",
              "      <td>qmr</td>\n",
              "      <td>0.10</td>\n",
              "      <td>428</td>\n",
              "      <td>776</td>\n",
              "      <td>20</td>\n",
              "      <td>Xeon</td>\n",
              "      <td>0.0095</td>\n",
              "      <td>856</td>\n",
              "      <td>0.154976</td>\n",
              "    </tr>\n",
              "    <tr>\n",
              "      <th>20</th>\n",
              "      <td>gcrotmk</td>\n",
              "      <td>0.10</td>\n",
              "      <td>428</td>\n",
              "      <td>776</td>\n",
              "      <td>20</td>\n",
              "      <td>Xeon</td>\n",
              "      <td>0.0097</td>\n",
              "      <td>856</td>\n",
              "      <td>0.158238</td>\n",
              "    </tr>\n",
              "    <tr>\n",
              "      <th>21</th>\n",
              "      <td>tfqmr</td>\n",
              "      <td>0.10</td>\n",
              "      <td>428</td>\n",
              "      <td>776</td>\n",
              "      <td>20</td>\n",
              "      <td>Xeon</td>\n",
              "      <td>0.0095</td>\n",
              "      <td>856</td>\n",
              "      <td>0.154976</td>\n",
              "    </tr>\n",
              "    <tr>\n",
              "      <th>22</th>\n",
              "      <td>spsolve</td>\n",
              "      <td>0.05</td>\n",
              "      <td>1604</td>\n",
              "      <td>3052</td>\n",
              "      <td>20</td>\n",
              "      <td>Xeon</td>\n",
              "      <td>0.0110</td>\n",
              "      <td>3208</td>\n",
              "      <td>0.063731</td>\n",
              "    </tr>\n",
              "    <tr>\n",
              "      <th>23</th>\n",
              "      <td>bicg</td>\n",
              "      <td>0.05</td>\n",
              "      <td>1604</td>\n",
              "      <td>3052</td>\n",
              "      <td>20</td>\n",
              "      <td>Xeon</td>\n",
              "      <td>0.0299</td>\n",
              "      <td>3208</td>\n",
              "      <td>0.173233</td>\n",
              "    </tr>\n",
              "    <tr>\n",
              "      <th>24</th>\n",
              "      <td>bicgstab</td>\n",
              "      <td>0.05</td>\n",
              "      <td>1604</td>\n",
              "      <td>3052</td>\n",
              "      <td>20</td>\n",
              "      <td>Xeon</td>\n",
              "      <td>0.0213</td>\n",
              "      <td>3208</td>\n",
              "      <td>0.123407</td>\n",
              "    </tr>\n",
              "    <tr>\n",
              "      <th>25</th>\n",
              "      <td>cg</td>\n",
              "      <td>0.05</td>\n",
              "      <td>1604</td>\n",
              "      <td>3052</td>\n",
              "      <td>20</td>\n",
              "      <td>Xeon</td>\n",
              "      <td>0.0149</td>\n",
              "      <td>3208</td>\n",
              "      <td>0.086327</td>\n",
              "    </tr>\n",
              "    <tr>\n",
              "      <th>27</th>\n",
              "      <td>gmres</td>\n",
              "      <td>0.05</td>\n",
              "      <td>1604</td>\n",
              "      <td>3052</td>\n",
              "      <td>20</td>\n",
              "      <td>Xeon</td>\n",
              "      <td>0.0671</td>\n",
              "      <td>3208</td>\n",
              "      <td>0.388760</td>\n",
              "    </tr>\n",
              "    <tr>\n",
              "      <th>28</th>\n",
              "      <td>lgmres</td>\n",
              "      <td>0.05</td>\n",
              "      <td>1604</td>\n",
              "      <td>3052</td>\n",
              "      <td>20</td>\n",
              "      <td>Xeon</td>\n",
              "      <td>0.0264</td>\n",
              "      <td>3208</td>\n",
              "      <td>0.152955</td>\n",
              "    </tr>\n",
              "    <tr>\n",
              "      <th>29</th>\n",
              "      <td>minres</td>\n",
              "      <td>0.05</td>\n",
              "      <td>1604</td>\n",
              "      <td>3052</td>\n",
              "      <td>20</td>\n",
              "      <td>Xeon</td>\n",
              "      <td>0.0063</td>\n",
              "      <td>3208</td>\n",
              "      <td>0.036501</td>\n",
              "    </tr>\n",
              "    <tr>\n",
              "      <th>30</th>\n",
              "      <td>qmr</td>\n",
              "      <td>0.05</td>\n",
              "      <td>1604</td>\n",
              "      <td>3052</td>\n",
              "      <td>20</td>\n",
              "      <td>Xeon</td>\n",
              "      <td>0.0313</td>\n",
              "      <td>3208</td>\n",
              "      <td>0.181344</td>\n",
              "    </tr>\n",
              "    <tr>\n",
              "      <th>31</th>\n",
              "      <td>gcrotmk</td>\n",
              "      <td>0.05</td>\n",
              "      <td>1604</td>\n",
              "      <td>3052</td>\n",
              "      <td>20</td>\n",
              "      <td>Xeon</td>\n",
              "      <td>0.0286</td>\n",
              "      <td>3208</td>\n",
              "      <td>0.165701</td>\n",
              "    </tr>\n",
              "    <tr>\n",
              "      <th>32</th>\n",
              "      <td>tfqmr</td>\n",
              "      <td>0.05</td>\n",
              "      <td>1604</td>\n",
              "      <td>3052</td>\n",
              "      <td>20</td>\n",
              "      <td>Xeon</td>\n",
              "      <td>0.0382</td>\n",
              "      <td>3208</td>\n",
              "      <td>0.221321</td>\n",
              "    </tr>\n",
              "    <tr>\n",
              "      <th>33</th>\n",
              "      <td>spsolve</td>\n",
              "      <td>0.01</td>\n",
              "      <td>37836</td>\n",
              "      <td>74910</td>\n",
              "      <td>20</td>\n",
              "      <td>Xeon</td>\n",
              "      <td>1.2001</td>\n",
              "      <td>75672</td>\n",
              "      <td>0.042173</td>\n",
              "    </tr>\n",
              "    <tr>\n",
              "      <th>34</th>\n",
              "      <td>bicg</td>\n",
              "      <td>0.01</td>\n",
              "      <td>37836</td>\n",
              "      <td>74910</td>\n",
              "      <td>20</td>\n",
              "      <td>Xeon</td>\n",
              "      <td>8.0172</td>\n",
              "      <td>75672</td>\n",
              "      <td>0.281735</td>\n",
              "    </tr>\n",
              "    <tr>\n",
              "      <th>35</th>\n",
              "      <td>bicgstab</td>\n",
              "      <td>0.01</td>\n",
              "      <td>37836</td>\n",
              "      <td>74910</td>\n",
              "      <td>20</td>\n",
              "      <td>Xeon</td>\n",
              "      <td>3.3653</td>\n",
              "      <td>75672</td>\n",
              "      <td>0.118261</td>\n",
              "    </tr>\n",
              "    <tr>\n",
              "      <th>36</th>\n",
              "      <td>cg</td>\n",
              "      <td>0.01</td>\n",
              "      <td>37836</td>\n",
              "      <td>74910</td>\n",
              "      <td>20</td>\n",
              "      <td>Xeon</td>\n",
              "      <td>2.5096</td>\n",
              "      <td>75672</td>\n",
              "      <td>0.088191</td>\n",
              "    </tr>\n",
              "    <tr>\n",
              "      <th>38</th>\n",
              "      <td>gmres</td>\n",
              "      <td>0.01</td>\n",
              "      <td>37836</td>\n",
              "      <td>74910</td>\n",
              "      <td>20</td>\n",
              "      <td>Xeon</td>\n",
              "      <td>28.4565</td>\n",
              "      <td>75672</td>\n",
              "      <td>1.000000</td>\n",
              "    </tr>\n",
              "    <tr>\n",
              "      <th>39</th>\n",
              "      <td>lgmres</td>\n",
              "      <td>0.01</td>\n",
              "      <td>37836</td>\n",
              "      <td>74910</td>\n",
              "      <td>20</td>\n",
              "      <td>Xeon</td>\n",
              "      <td>1.6956</td>\n",
              "      <td>75672</td>\n",
              "      <td>0.059586</td>\n",
              "    </tr>\n",
              "    <tr>\n",
              "      <th>40</th>\n",
              "      <td>minres</td>\n",
              "      <td>0.01</td>\n",
              "      <td>37836</td>\n",
              "      <td>74910</td>\n",
              "      <td>20</td>\n",
              "      <td>Xeon</td>\n",
              "      <td>0.1698</td>\n",
              "      <td>75672</td>\n",
              "      <td>0.005967</td>\n",
              "    </tr>\n",
              "    <tr>\n",
              "      <th>41</th>\n",
              "      <td>qmr</td>\n",
              "      <td>0.01</td>\n",
              "      <td>37836</td>\n",
              "      <td>74910</td>\n",
              "      <td>20</td>\n",
              "      <td>Xeon</td>\n",
              "      <td>5.0055</td>\n",
              "      <td>75672</td>\n",
              "      <td>0.175900</td>\n",
              "    </tr>\n",
              "    <tr>\n",
              "      <th>42</th>\n",
              "      <td>gcrotmk</td>\n",
              "      <td>0.01</td>\n",
              "      <td>37836</td>\n",
              "      <td>74910</td>\n",
              "      <td>20</td>\n",
              "      <td>Xeon</td>\n",
              "      <td>1.9213</td>\n",
              "      <td>75672</td>\n",
              "      <td>0.067517</td>\n",
              "    </tr>\n",
              "    <tr>\n",
              "      <th>43</th>\n",
              "      <td>tfqmr</td>\n",
              "      <td>0.01</td>\n",
              "      <td>37836</td>\n",
              "      <td>74910</td>\n",
              "      <td>20</td>\n",
              "      <td>Xeon</td>\n",
              "      <td>13.5836</td>\n",
              "      <td>75672</td>\n",
              "      <td>0.477346</td>\n",
              "    </tr>\n",
              "    <tr>\n",
              "      <th>44</th>\n",
              "      <td>spsolve</td>\n",
              "      <td>0.50</td>\n",
              "      <td>29</td>\n",
              "      <td>38</td>\n",
              "      <td>10</td>\n",
              "      <td>GTX 1050</td>\n",
              "      <td>0.0575</td>\n",
              "      <td>58</td>\n",
              "      <td>1.000000</td>\n",
              "    </tr>\n",
              "    <tr>\n",
              "      <th>45</th>\n",
              "      <td>cg</td>\n",
              "      <td>0.50</td>\n",
              "      <td>29</td>\n",
              "      <td>38</td>\n",
              "      <td>10</td>\n",
              "      <td>GTX 1050</td>\n",
              "      <td>0.0247</td>\n",
              "      <td>58</td>\n",
              "      <td>0.429565</td>\n",
              "    </tr>\n",
              "    <tr>\n",
              "      <th>46</th>\n",
              "      <td>gmres</td>\n",
              "      <td>0.50</td>\n",
              "      <td>29</td>\n",
              "      <td>38</td>\n",
              "      <td>10</td>\n",
              "      <td>GTX 1050</td>\n",
              "      <td>0.0143</td>\n",
              "      <td>58</td>\n",
              "      <td>0.248696</td>\n",
              "    </tr>\n",
              "    <tr>\n",
              "      <th>47</th>\n",
              "      <td>minres</td>\n",
              "      <td>0.50</td>\n",
              "      <td>29</td>\n",
              "      <td>38</td>\n",
              "      <td>10</td>\n",
              "      <td>GTX 1050</td>\n",
              "      <td>0.0238</td>\n",
              "      <td>58</td>\n",
              "      <td>0.413913</td>\n",
              "    </tr>\n",
              "    <tr>\n",
              "      <th>48</th>\n",
              "      <td>spsolve</td>\n",
              "      <td>0.10</td>\n",
              "      <td>428</td>\n",
              "      <td>776</td>\n",
              "      <td>10</td>\n",
              "      <td>GTX 1050</td>\n",
              "      <td>0.0161</td>\n",
              "      <td>856</td>\n",
              "      <td>0.262643</td>\n",
              "    </tr>\n",
              "    <tr>\n",
              "      <th>49</th>\n",
              "      <td>cg</td>\n",
              "      <td>0.10</td>\n",
              "      <td>428</td>\n",
              "      <td>776</td>\n",
              "      <td>10</td>\n",
              "      <td>GTX 1050</td>\n",
              "      <td>0.0374</td>\n",
              "      <td>856</td>\n",
              "      <td>0.610114</td>\n",
              "    </tr>\n",
              "    <tr>\n",
              "      <th>50</th>\n",
              "      <td>gmres</td>\n",
              "      <td>0.10</td>\n",
              "      <td>428</td>\n",
              "      <td>776</td>\n",
              "      <td>10</td>\n",
              "      <td>GTX 1050</td>\n",
              "      <td>0.0613</td>\n",
              "      <td>856</td>\n",
              "      <td>1.000000</td>\n",
              "    </tr>\n",
              "    <tr>\n",
              "      <th>51</th>\n",
              "      <td>minres</td>\n",
              "      <td>0.10</td>\n",
              "      <td>428</td>\n",
              "      <td>776</td>\n",
              "      <td>10</td>\n",
              "      <td>GTX 1050</td>\n",
              "      <td>0.0369</td>\n",
              "      <td>856</td>\n",
              "      <td>0.601958</td>\n",
              "    </tr>\n",
              "    <tr>\n",
              "      <th>52</th>\n",
              "      <td>spsolve</td>\n",
              "      <td>0.05</td>\n",
              "      <td>1604</td>\n",
              "      <td>3052</td>\n",
              "      <td>10</td>\n",
              "      <td>GTX 1050</td>\n",
              "      <td>0.0706</td>\n",
              "      <td>3208</td>\n",
              "      <td>0.409038</td>\n",
              "    </tr>\n",
              "    <tr>\n",
              "      <th>53</th>\n",
              "      <td>cg</td>\n",
              "      <td>0.05</td>\n",
              "      <td>1604</td>\n",
              "      <td>3052</td>\n",
              "      <td>10</td>\n",
              "      <td>GTX 1050</td>\n",
              "      <td>0.0660</td>\n",
              "      <td>3208</td>\n",
              "      <td>0.382387</td>\n",
              "    </tr>\n",
              "    <tr>\n",
              "      <th>54</th>\n",
              "      <td>gmres</td>\n",
              "      <td>0.05</td>\n",
              "      <td>1604</td>\n",
              "      <td>3052</td>\n",
              "      <td>10</td>\n",
              "      <td>GTX 1050</td>\n",
              "      <td>0.1726</td>\n",
              "      <td>3208</td>\n",
              "      <td>1.000000</td>\n",
              "    </tr>\n",
              "    <tr>\n",
              "      <th>55</th>\n",
              "      <td>minres</td>\n",
              "      <td>0.05</td>\n",
              "      <td>1604</td>\n",
              "      <td>3052</td>\n",
              "      <td>10</td>\n",
              "      <td>GTX 1050</td>\n",
              "      <td>0.0457</td>\n",
              "      <td>3208</td>\n",
              "      <td>0.264774</td>\n",
              "    </tr>\n",
              "    <tr>\n",
              "      <th>56</th>\n",
              "      <td>spsolve</td>\n",
              "      <td>0.01</td>\n",
              "      <td>37836</td>\n",
              "      <td>74910</td>\n",
              "      <td>10</td>\n",
              "      <td>GTX 1050</td>\n",
              "      <td>9.8619</td>\n",
              "      <td>75672</td>\n",
              "      <td>0.346561</td>\n",
              "    </tr>\n",
              "    <tr>\n",
              "      <th>57</th>\n",
              "      <td>cg</td>\n",
              "      <td>0.01</td>\n",
              "      <td>37836</td>\n",
              "      <td>74910</td>\n",
              "      <td>10</td>\n",
              "      <td>GTX 1050</td>\n",
              "      <td>0.4239</td>\n",
              "      <td>75672</td>\n",
              "      <td>0.014896</td>\n",
              "    </tr>\n",
              "    <tr>\n",
              "      <th>58</th>\n",
              "      <td>gmres</td>\n",
              "      <td>0.01</td>\n",
              "      <td>37836</td>\n",
              "      <td>74910</td>\n",
              "      <td>10</td>\n",
              "      <td>GTX 1050</td>\n",
              "      <td>4.3324</td>\n",
              "      <td>75672</td>\n",
              "      <td>0.152246</td>\n",
              "    </tr>\n",
              "    <tr>\n",
              "      <th>59</th>\n",
              "      <td>minres</td>\n",
              "      <td>0.01</td>\n",
              "      <td>37836</td>\n",
              "      <td>74910</td>\n",
              "      <td>10</td>\n",
              "      <td>GTX 1050</td>\n",
              "      <td>0.0720</td>\n",
              "      <td>75672</td>\n",
              "      <td>0.002530</td>\n",
              "    </tr>\n",
              "  </tbody>\n",
              "</table>\n",
              "</div>\n",
              "      <button class=\"colab-df-convert\" onclick=\"convertToInteractive('df-4b770c92-9f63-459d-b098-eb7c2bf15b4d')\"\n",
              "              title=\"Convert this dataframe to an interactive table.\"\n",
              "              style=\"display:none;\">\n",
              "        \n",
              "  <svg xmlns=\"http://www.w3.org/2000/svg\" height=\"24px\"viewBox=\"0 0 24 24\"\n",
              "       width=\"24px\">\n",
              "    <path d=\"M0 0h24v24H0V0z\" fill=\"none\"/>\n",
              "    <path d=\"M18.56 5.44l.94 2.06.94-2.06 2.06-.94-2.06-.94-.94-2.06-.94 2.06-2.06.94zm-11 1L8.5 8.5l.94-2.06 2.06-.94-2.06-.94L8.5 2.5l-.94 2.06-2.06.94zm10 10l.94 2.06.94-2.06 2.06-.94-2.06-.94-.94-2.06-.94 2.06-2.06.94z\"/><path d=\"M17.41 7.96l-1.37-1.37c-.4-.4-.92-.59-1.43-.59-.52 0-1.04.2-1.43.59L10.3 9.45l-7.72 7.72c-.78.78-.78 2.05 0 2.83L4 21.41c.39.39.9.59 1.41.59.51 0 1.02-.2 1.41-.59l7.78-7.78 2.81-2.81c.8-.78.8-2.07 0-2.86zM5.41 20L4 18.59l7.72-7.72 1.47 1.35L5.41 20z\"/>\n",
              "  </svg>\n",
              "      </button>\n",
              "      \n",
              "  <style>\n",
              "    .colab-df-container {\n",
              "      display:flex;\n",
              "      flex-wrap:wrap;\n",
              "      gap: 12px;\n",
              "    }\n",
              "\n",
              "    .colab-df-convert {\n",
              "      background-color: #E8F0FE;\n",
              "      border: none;\n",
              "      border-radius: 50%;\n",
              "      cursor: pointer;\n",
              "      display: none;\n",
              "      fill: #1967D2;\n",
              "      height: 32px;\n",
              "      padding: 0 0 0 0;\n",
              "      width: 32px;\n",
              "    }\n",
              "\n",
              "    .colab-df-convert:hover {\n",
              "      background-color: #E2EBFA;\n",
              "      box-shadow: 0px 1px 2px rgba(60, 64, 67, 0.3), 0px 1px 3px 1px rgba(60, 64, 67, 0.15);\n",
              "      fill: #174EA6;\n",
              "    }\n",
              "\n",
              "    [theme=dark] .colab-df-convert {\n",
              "      background-color: #3B4455;\n",
              "      fill: #D2E3FC;\n",
              "    }\n",
              "\n",
              "    [theme=dark] .colab-df-convert:hover {\n",
              "      background-color: #434B5C;\n",
              "      box-shadow: 0px 1px 3px 1px rgba(0, 0, 0, 0.15);\n",
              "      filter: drop-shadow(0px 1px 2px rgba(0, 0, 0, 0.3));\n",
              "      fill: #FFFFFF;\n",
              "    }\n",
              "  </style>\n",
              "\n",
              "      <script>\n",
              "        const buttonEl =\n",
              "          document.querySelector('#df-4b770c92-9f63-459d-b098-eb7c2bf15b4d button.colab-df-convert');\n",
              "        buttonEl.style.display =\n",
              "          google.colab.kernel.accessAllowed ? 'block' : 'none';\n",
              "\n",
              "        async function convertToInteractive(key) {\n",
              "          const element = document.querySelector('#df-4b770c92-9f63-459d-b098-eb7c2bf15b4d');\n",
              "          const dataTable =\n",
              "            await google.colab.kernel.invokeFunction('convertToInteractive',\n",
              "                                                     [key], {});\n",
              "          if (!dataTable) return;\n",
              "\n",
              "          const docLinkHtml = 'Like what you see? Visit the ' +\n",
              "            '<a target=\"_blank\" href=https://colab.research.google.com/notebooks/data_table.ipynb>data table notebook</a>'\n",
              "            + ' to learn more about interactive tables.';\n",
              "          element.innerHTML = '';\n",
              "          dataTable['output_type'] = 'display_data';\n",
              "          await google.colab.output.renderOutput(dataTable, element);\n",
              "          const docLink = document.createElement('div');\n",
              "          docLink.innerHTML = docLinkHtml;\n",
              "          element.appendChild(docLink);\n",
              "        }\n",
              "      </script>\n",
              "    </div>\n",
              "  </div>\n",
              "  "
            ]
          },
          "metadata": {},
          "execution_count": 10
        }
      ]
    },
    {
      "cell_type": "markdown",
      "source": [
        "In order to better visualize and compare different solvers' performance across different grid characteristic lenghts, the execution time as been normalized to the slowest recorded time.\n",
        "\n",
        "The following figure shows the solver algorithm performance running on a 8 cores Intel Xeon CPU processor."
      ],
      "metadata": {
        "id": "Ijla4IGGKjrr"
      }
    },
    {
      "cell_type": "code",
      "source": [
        "import seaborn as sns\n",
        "import matplotlib.pyplot as plt\n",
        "from matplotlib.pyplot import figure\n",
        "\n",
        "figure(num=None, figsize=(10, 9), dpi=80, facecolor='w', edgecolor='r')\n",
        "\n",
        "ax = sns.barplot(data=df_cpu, y='Number of Cells',\n",
        "                 x='Normalized Execution Time', hue='Solver', orient='h')\n",
        "sns.move_legend(ax, 'upper left', bbox_to_anchor=(1, 1))\n",
        "\n",
        "for container in ax.containers:\n",
        "    ax.bar_label(container, padding=10)\n",
        "\n",
        "plt.grid(axis='x')\n",
        "plt.xlim([0, 1.1])\n",
        "plt.title(f'Normalized Execution Time of SciPy Sparse Linear Solvers on CPU')\n",
        "# plt.savefig(f'solvers_exec_time_cpu.png', bbox_inches='tight')\n",
        "plt.show()"
      ],
      "metadata": {
        "colab": {
          "base_uri": "https://localhost:8080/",
          "height": 625
        },
        "id": "5JKVCmzlVfUL",
        "outputId": "345e2be3-4e00-4243-b278-b3135988d3f9"
      },
      "execution_count": 11,
      "outputs": [
        {
          "output_type": "display_data",
          "data": {
            "text/plain": [
              "<Figure size 800x720 with 1 Axes>"
            ],
            "image/png": "[encoded data removed]"
          },
          "metadata": {}
        }
      ]
    },
    {
      "cell_type": "markdown",
      "source": [
        "We can now plot the normalized execution time of the different solvers running on a Nvidia GTX 1050 GPU. "
      ],
      "metadata": {
        "id": "oW5Ho0TLXC6O"
      }
    },
    {
      "cell_type": "code",
      "source": [
        "# figure(num=None, figsize=(10, 9), dpi=80, facecolor='w', edgecolor='r')\n",
        "\n",
        "ax = sns.barplot(data=df_gpu, y='Number of Cells',\n",
        "                 x='Normalized Execution Time', hue='Solver', orient='h')\n",
        "sns.move_legend(ax, 'upper left', bbox_to_anchor=(1, 1))\n",
        "\n",
        "for container in ax.containers:\n",
        "    ax.bar_label(container, padding=10)\n",
        "\n",
        "plt.grid(axis='x')\n",
        "plt.xlim([0, 1.1])\n",
        "plt.title(f'Normalized Execution Time of SciPy Sparse Linear Solvers on GPU')\n",
        "# plt.savefig(f'solvers_exec_time_cpu.png', bbox_inches='tight')\n",
        "plt.show()"
      ],
      "metadata": {
        "colab": {
          "base_uri": "https://localhost:8080/",
          "height": 295
        },
        "id": "0NhvN8qEV84R",
        "outputId": "0d48a41e-8b73-41f4-aeb9-c0d906dc8950"
      },
      "execution_count": 12,
      "outputs": [
        {
          "output_type": "display_data",
          "data": {
            "text/plain": [
              "<Figure size 432x288 with 1 Axes>"
            ],
            "image/png": "[encoded data removed]"
          },
          "metadata": {
            "needs_background": "light"
          }
        }
      ]
    },
    {
      "cell_type": "markdown",
      "source": [
        "As we can see, for both devices, the `minres` solver is the best performing one, especially in the case of large matrix dimensions. We believe that the main reason for such result lies in the fact that `minres` is able to best leverage the symmetry and the sparseness of the stiffness matrix compared to the other solver algorithms."
      ],
      "metadata": {
        "id": "SH8JRPn8XBcR"
      }
    },
    {
      "cell_type": "markdown",
      "source": [
        "## K-Assembly Implementation\n",
        "\n",
        "We now show different implementations for the K-assembly step. Given the chosen FEM problem, the stiffness matrix K is sparse by construction. This allows us to leverage different strategies for storing it.\n",
        "\n",
        "There exist several ways for storing sparse matrices, each with its own trade-offs. the Compressed Sparse Row (CSR) format, for instance, is well suited for efficient matrix computations, but it's not for accessing individual elements via indexing. This limitation can be overcome by the [COOrdinate (COO) format](https://docs.scipy.org/doc/scipy/reference/generated/scipy.sparse.coo_matrix.html#scipy.sparse.coo_matrix): in practice three arrays contain the non-zero elements, rows, and columns indexes, respectively, of the matrix.\n",
        "\n",
        "Although not being optimal in terms of storage size, the SciPy and CuPy COO implementations have the advantage of automatically handle duplicate entries, _i.e._, at same coordinates, by summing them. This mechanism avoids manual handling of the reduction of the elements stiffness matrixes which share nodes together.\n",
        "Because of that, we decided to adopt the COO format during the assembly of the stiffness matrix, before converting it to CSR format for the subsequent solving step.\n",
        "\n",
        "In the following analysis, we solve the full FEM problem exploiting the MINRES solver algorithm.\n",
        "\n",
        "<!-- It allows fast indexing ($O(1)$ complexity) and  -->"
      ],
      "metadata": {
        "id": "3-rhRflJMC84"
      }
    },
    {
      "cell_type": "markdown",
      "source": [
        "### Naive K-Assembly on CPU\n",
        "\n",
        "The naive K-assembly implementation mainly consists of a loop over each cell element. As expected, it is not well performant."
      ],
      "metadata": {
        "id": "P3T6-OZ6aXnh"
      }
    },
    {
      "cell_type": "code",
      "source": [
        "@nb.jit(nopython=True, cache=True, parallel=True)\n",
        "def get_coo_indices(dofs):\n",
        "    block_sz, n_dofs_per_cell = dofs.shape\n",
        "    f_rows = np.empty(dofs.shape, dtype=np.int32)\n",
        "    f_cols = np.zeros(dofs.size, dtype=np.int32)\n",
        "    K_rows = np.empty((block_sz, n_dofs_per_cell, n_dofs_per_cell), dtype=np.int32)\n",
        "    K_cols = np.zeros((block_sz, n_dofs_per_cell, n_dofs_per_cell), dtype=np.int32)\n",
        "    for k in prange(block_sz):\n",
        "        for i, dof_i in enumerate(dofs[k]):\n",
        "            f_rows[k, i] = dof_i\n",
        "            for j, dof_j in enumerate(dofs[k]):\n",
        "                K_rows[k, i, j] = dof_i\n",
        "                K_cols[k, i, j] = dof_j\n",
        "    return (K_rows.flatten(), K_cols.flatten()), (f_rows.flatten(), f_cols.flatten())\n",
        "\n",
        "def naive_k_assembly_cpu(a, weak_form, dh, grid=None):\n",
        "    if grid is None:\n",
        "        grid = dh.grid\n",
        "    # Init element matrices\n",
        "    ndofs_cell = dh.get_ndofs_per_cell()\n",
        "    ke = np.zeros((ndofs_cell, ndofs_cell), dtype=np.float32)\n",
        "    re = np.zeros(ndofs_cell, dtype=np.float32)\n",
        "    # Setup K matrix and f vector in COO format\n",
        "    K_data, K_rows, K_cols = [], [], []\n",
        "    f_data, f_rows, f_cols = [], [], []\n",
        "    # Assemble K and f components\n",
        "    for cellid in range(grid.get_num_cells()):\n",
        "        ke.fill(0.0)\n",
        "        re.fill(0.0)\n",
        "        xe = grid.get_coordinates(cellid)\n",
        "        dofs = dh.get_cell_dofs(cellid)\n",
        "        ue = a[dofs] # NOTE: Not relevant as input for linear elasticity\n",
        "        weak_form.run_element_routine(ke, re, xe, ue)\n",
        "        K_tmp, f_tmp = get_coo_indices(dofs[None])\n",
        "        # Update K matrix components\n",
        "        K_data.extend(ke.flatten())\n",
        "        K_rows.extend(K_tmp[0])\n",
        "        K_cols.extend(K_tmp[1])\n",
        "        # Update f vector components\n",
        "        f_data.extend(re.flatten())\n",
        "        f_rows.extend(f_tmp[0])\n",
        "        f_cols.extend(f_tmp[1])\n",
        "    # Convert lists to COO matrices\n",
        "    # NOTE: Components at same indeces are automatically accumulated together\n",
        "    K_data = np.array(K_data, dtype=np.float32).flatten()\n",
        "    K_rows = np.array(K_rows, dtype=np.int32).flatten()\n",
        "    K_cols = np.array(K_cols, dtype=np.int32).flatten()\n",
        "    K = coo_matrix((K_data, (K_rows, K_cols)), dtype=np.float32)\n",
        "    f_data = np.array(f_data, dtype=np.float32).flatten()\n",
        "    f_rows = np.array(f_rows, dtype=np.int32).flatten()\n",
        "    f_cols = np.array(f_cols, dtype=np.int32).flatten()\n",
        "    f = coo_matrix((f_data, (f_rows, f_cols)), dtype=np.float32).toarray()\n",
        "    return K, f"
      ],
      "metadata": {
        "id": "Pz99Ps4E4Yz5"
      },
      "execution_count": 13,
      "outputs": []
    },
    {
      "cell_type": "code",
      "source": [
        "def run_solver(K, f, a, dofs, solver=scipy.sparse.linalg.spsolve):\n",
        "    K_free = K.tocsc()[:, dofs['free']].tocsr()[dofs['free'], :]\n",
        "    K_prescribed = K.tocsc()[:, dofs['prescribed']].tocsr()[dofs['free'], :]\n",
        "    f_glob = -K_prescribed @ a[dofs['prescribed']]\n",
        "    return solver(K_free, f_glob)"
      ],
      "metadata": {
        "id": "k-t3uxtGXNi_"
      },
      "execution_count": 14,
      "outputs": []
    },
    {
      "cell_type": "code",
      "source": [
        "a, weak_form, dh, dofs_glob = generate_fem_problem(lcar=0.5)\n",
        "# dh.grid.plot(a.reshape(len(dh.grid.nodes), dh.n_dofs_per_node)[:, 1])\n",
        "K, f = naive_k_assembly_cpu(a, weak_form, dh)\n",
        "a[dofs_glob['free']], _ = run_solver(K, f, a, dofs_glob, solver=scipy.sparse.linalg.minres)"
      ],
      "metadata": {
        "id": "wzkSzODS45qj"
      },
      "execution_count": 15,
      "outputs": []
    },
    {
      "cell_type": "code",
      "source": [
        "def plot_K(K, filename=None):\n",
        "    if K.shape[0] < 20000:\n",
        "        plt.spy(K)\n",
        "        if filename is not None:\n",
        "            plt.savefig(filename)\n",
        "        plt.show()\n",
        "\n",
        "plt.title('Global stiffness matrix')\n",
        "plot_K(K)"
      ],
      "metadata": {
        "colab": {
          "base_uri": "https://localhost:8080/",
          "height": 285
        },
        "id": "iYiwTGdmrCoa",
        "outputId": "56979b85-42cf-406d-a094-ba369ddbe848"
      },
      "execution_count": 16,
      "outputs": [
        {
          "output_type": "display_data",
          "data": {
            "text/plain": [
              "<Figure size 432x288 with 1 Axes>"
            ],
            "image/png": "[encoded data removed]"
          },
          "metadata": {
            "needs_background": "light"
          }
        }
      ]
    },
    {
      "cell_type": "code",
      "source": [
        "def plot_grid(a, dh):\n",
        "    if len(dh.grid.nodes) < 2000:\n",
        "        nodal_effects = a.reshape(len(dh.grid.nodes), dh.n_dofs_per_node).copy()\n",
        "        plt.title('X components')\n",
        "        dh.grid.plot(nodal_effects[:, 0])\n",
        "        plt.title('Y components')\n",
        "        dh.grid.plot(nodal_effects[:, 1])\n",
        "\n",
        "plot_grid(a, dh)"
      ],
      "metadata": {
        "colab": {
          "base_uri": "https://localhost:8080/",
          "height": 545
        },
        "id": "7h04mYw-X486",
        "outputId": "2a6f5c97-8ab4-4b25-e845-a645dee25af8"
      },
      "execution_count": 17,
      "outputs": [
        {
          "output_type": "display_data",
          "data": {
            "text/plain": [
              "<Figure size 432x288 with 2 Axes>"
            ],
            "image/png": "[encoded data removed]"
          },
          "metadata": {
            "needs_background": "light"
          }
        },
        {
          "output_type": "display_data",
          "data": {
            "text/plain": [
              "<Figure size 432x288 with 2 Axes>"
            ],
            "image/png": "[encoded data removed]"
          },
          "metadata": {
            "needs_background": "light"
          }
        }
      ]
    },
    {
      "cell_type": "markdown",
      "source": [
        "### Profiling\n",
        "\n",
        "This section about code profiling is reported for completeness, but its output is omitted for brevity.\n",
        "\n",
        "Please note that these two cells execution will take a considerable amount of time to complete, since the implementation is not efficient yet."
      ],
      "metadata": {
        "id": "MjKJIwUtxd_X"
      }
    },
    {
      "cell_type": "code",
      "source": [
        "# a, weak_form, dh, dofs_glob = generate_rand_fem_problem(filename=f'data/randgrid_n{int(3e3)}.npz')\n",
        "a, weak_form, dh, dofs_glob = generate_fem_problem(lcar=0.09)\n",
        "print(f'Number of cells: {len(dh.grid.cells)}')\n",
        "print(f'Number of nodes: {len(dh.grid.nodes)}')\n",
        "K_dim = dh.get_ndofs_total()\n",
        "print(f'a dimensions: ({K_dim}, 1)')\n",
        "print(f'K dimensions: ({K_dim}, {K_dim}) (Total elements: {K_dim * K_dim})')"
      ],
      "metadata": {
        "id": "35tmiLF6xd_Z",
        "colab": {
          "base_uri": "https://localhost:8080/"
        },
        "outputId": "e24ee6f7-42cb-4a05-d46d-7fc20937d5bf"
      },
      "execution_count": 22,
      "outputs": [
        {
          "output_type": "stream",
          "name": "stdout",
          "text": [
            "Number of cells: 264199\n",
            "Number of nodes: 132856\n",
            "a dimensions: (265712, 1)\n",
            "K dimensions: (265712, 265712) (Total elements: 70602866944)\n"
          ]
        }
      ]
    },
    {
      "cell_type": "code",
      "source": [
        "# Reset a, in case this code is called multiple times\n",
        "a = np.zeros(dh.get_ndofs_total())\n",
        "a[dofs_glob['top'][:, 1]] = -0.1\n",
        "# Init profiler\n",
        "profiler = cProfile.Profile()\n",
        "profiler.enable()\n",
        "# Run CPU functions\n",
        "K, f = naive_k_assembly_cpu(a, weak_form, dh)\n",
        "a[dofs_glob['free']], _ = run_solver(K, f, a, dofs_glob,\n",
        "                                     solver=scipy.sparse.linalg.minres)\n",
        "# Stop profiling\n",
        "profiler.disable()\n",
        "# Create statistics from the profiler, sorted by cumulative time\n",
        "stats = pstats.Stats(profiler).sort_stats('cumtime')\n",
        "# Print the 10 (inclusive) most expensive functions\n",
        "stats.print_stats(10)"
      ],
      "metadata": {
        "id": "_dYiqX6Vxd_b"
      },
      "execution_count": null,
      "outputs": []
    },
    {
      "cell_type": "markdown",
      "source": [
        "## Batched K-Assembly on CPU\n",
        "\n",
        "As for-loops are very inefficient in Python, one optimization strategy is to refactor the code to eliminate explicit for-loop and instead embed them into Numba-optimized functions. In fact, we can take advantage of the fact that the element routine can be run independently on each cell before being eventually accumulated."
      ],
      "metadata": {
        "id": "MMSLg7LPQ3jJ"
      }
    },
    {
      "cell_type": "markdown",
      "source": [
        "### Batched Element Routine on CPU\n",
        "\n",
        "In the following Numba functions, the vectors are defined with an additional first dimension, which indexes elements in the grid or in a batch. Numba has been utilized to optimize the remaining for-loops in the algorithm."
      ],
      "metadata": {
        "id": "XOr2eTapRxLS"
      }
    },
    {
      "cell_type": "code",
      "source": [
        "@nb.guvectorize('(float32[:,:,:], float32[:])', '(b,c,n)->(b)', cache=True, target='parallel')\n",
        "def jacobi_det_cell3_2D(xe, detJ):\n",
        "    for i in prange(detJ.shape[0]):\n",
        "        detJ[i] = ((xe[i, 1, 0] - xe[i, 0, 0]) * (xe[i, 2, 1] - xe[i, 0, 1]) -\n",
        "                   (xe[i, 2, 0] - xe[i, 0, 0]) * (xe[i, 1, 1] - xe[i, 0, 1]))\n",
        "\n",
        "\n",
        "def jacobian_cell3_2D(xe, J):\n",
        "    # TODO(Kim): Not generally constant, could depend on iso_coord (xi)\n",
        "    J[:, 0, 0] = xe[:, 1, 0] - xe[:, 0, 0]\n",
        "    J[:, 0, 1] = xe[:, 2, 0] - xe[:, 0, 0]\n",
        "    J[:, 1, 0] = xe[:, 1, 1] - xe[:, 0, 1]\n",
        "    J[:, 1, 1] = xe[:, 2, 1] - xe[:, 0, 1]\n",
        "\n",
        "\n",
        "@nb.jit(nopython=True, cache=True, parallel=True)\n",
        "def assemble_B(dNdx, B):\n",
        "    \"\"\"\n",
        "    dNdx: (batch_sz, n_nodes_cell, n_dofs_node)\n",
        "    B: (batch_sz, n_nodes_cell, n_dofs_cell)\n",
        "    \"\"\"\n",
        "    for j in range(dNdx.shape[1]):\n",
        "        dNidx = dNdx[:, j, 0]\n",
        "        dNidy = dNdx[:, j, 1]\n",
        "        B[:, 0, 2 * j] = dNidx\n",
        "        B[:, 2, 2 * j] = dNidy\n",
        "        B[:, 1, 2 * j + 1] = dNidy\n",
        "        B[:, 2, 2 * j + 1] = dNidx"
      ],
      "metadata": {
        "id": "dnQMq-TdRNly"
      },
      "execution_count": 18,
      "outputs": []
    },
    {
      "cell_type": "markdown",
      "source": [
        "The above functions are then utilized in the following element routine function, which also leverages efficient Numpy functions such as `einsum` and `matmul`. The idea is in fact to convert matrix-vector operations to matrix-matrix operations via _stacking_ all the vectors in a batch."
      ],
      "metadata": {
        "id": "akZOs1kfWTH7"
      }
    },
    {
      "cell_type": "code",
      "source": [
        "def batched_element_routine_cpu(stiffness, thickness, weights, xe, ue, ke, re,\n",
        "                                detJ=None, J=None, B=None, dNdxi=None, dNdx=None):\n",
        "    batch_sz = xe.shape[0]\n",
        "    n_dofs_cell = ue.shape[1]\n",
        "    # Init local variables if not provided\n",
        "    if detJ is None:\n",
        "        detJ = np.zeros(batch_sz, dtype=np.float32)\n",
        "    if J is None:\n",
        "        J = np.zeros((batch_sz, 2, 2), dtype=np.float32) # Shape: (b, 2, 2)\n",
        "    if B is None:\n",
        "        # TODO(Stefano): For now, B doesn't depend on nqp\n",
        "        nqp = weights.shape[0]\n",
        "        B = np.zeros((batch_sz, dh.grid.nnodes_per_cell(), n_dofs_cell), dtype=np.float32)\n",
        "    if dNdxi is None:\n",
        "        dNdxi = np.array([[-1.0, -1.0], [1.0, 0.0], [0.0, 1.0]], dtype=np.float32) # Shape: (3, 2)\n",
        "    if dNdx is None:\n",
        "        dNdx = np.empty((batch_sz, *dNdxi.shape), dtype=np.float32)\n",
        "    # Get shape of gradients\n",
        "    jacobi_det_cell3_2D(xe, detJ)\n",
        "    jacobian_cell3_2D(xe, J)\n",
        "    JinvT = np.linalg.inv(J).transpose((0, 2, 1))\n",
        "    dNdx = np.matmul(JinvT, dNdxi.T).transpose((0, 2, 1))\n",
        "    # Get B\n",
        "    assemble_B(dNdx, B)\n",
        "    BT = B.transpose((0, 2, 1))\n",
        "    # Setup element routine\n",
        "    detJw = detJ * weights\n",
        "    dsde = stiffness\n",
        "    # Run element routine\n",
        "    epsilon = np.einsum('bij,bj->bi', B, ue)\n",
        "    sigma = np.einsum('ij,bj->bi', dsde, epsilon)\n",
        "    BTsigma = np.einsum('bij,bj->bi', BT, sigma)\n",
        "    BTdsdeB = np.matmul(np.matmul(BT, dsde), B)\n",
        "    re += BTsigma * detJw[:, None]\n",
        "    ke += BTdsdeB * detJw[:, None, None]\n",
        "    re *= thickness\n",
        "    ke *= thickness"
      ],
      "metadata": {
        "id": "vrvZDC1vRR_8"
      },
      "execution_count": 19,
      "outputs": []
    },
    {
      "cell_type": "markdown",
      "source": [
        "### K-Assembly on CPU\n",
        "\n",
        "Compared to the naive version, we also introduce a \"batched\" for-loop: instead of iterating over each cell element, we populate a batch accordingly, before feeding it into the batched element routine function. In order to efficiently populate the batch, we again exploit Numba and elements independence.  "
      ],
      "metadata": {
        "id": "NnTiOCGfR47R"
      }
    },
    {
      "cell_type": "code",
      "source": [
        "@nb.jit(nopython=True, cache=True, parallel=True)\n",
        "def get_dofs(nodes, a, dofs, ue):\n",
        "    \"\"\"\n",
        "    Populate the dofs and ue based on the given nodes.\n",
        "\n",
        "    nodes: shape: (batch_sz, n_nodes_cell)\n",
        "    dofs: shape: (batch_sz, n_nodes_cell * n_dofs_per_node)\n",
        "    ue: shape: (batch_sz, n_nodes_cell * n_dofs_per_node)\n",
        "    \"\"\"\n",
        "    batch_sz, n_nodes_cell = nodes.shape\n",
        "    n_dofs = dofs.shape[-1] // n_nodes_cell\n",
        "    for i in prange(batch_sz):\n",
        "        for j, nodeid in enumerate(nodes[i]):\n",
        "            for k in range(n_dofs):\n",
        "                dofs[i, j * n_dofs + k] = nodeid * n_dofs + k\n",
        "        ue[i] = a[dofs[i]]\n",
        "\n",
        "@nb.jit(nopython=True, cache=True, parallel=True)\n",
        "def get_coo_indices(dofs):\n",
        "    batch_sz, n_dofs_per_cell = dofs.shape\n",
        "    f_rows = np.empty(dofs.shape, dtype=np.int32)\n",
        "    f_cols = np.zeros(dofs.size, dtype=np.int32)\n",
        "    K_rows = np.empty((batch_sz, n_dofs_per_cell, n_dofs_per_cell), dtype=np.int32)\n",
        "    K_cols = np.zeros((batch_sz, n_dofs_per_cell, n_dofs_per_cell), dtype=np.int32)\n",
        "    for k in prange(batch_sz):\n",
        "        for i, dof_i in enumerate(dofs[k]):\n",
        "            f_rows[k, i] = dof_i\n",
        "            for j, dof_j in enumerate(dofs[k]):\n",
        "                K_rows[k, i, j] = dof_i\n",
        "                K_cols[k, i, j] = dof_j\n",
        "    return (K_rows.flatten(), K_cols.flatten()), (f_rows.flatten(), f_cols.flatten())\n",
        "\n",
        "get_dofs.recompile()\n",
        "get_coo_indices.recompile()"
      ],
      "metadata": {
        "id": "U_gj9JI2Usya"
      },
      "execution_count": 20,
      "outputs": []
    },
    {
      "cell_type": "code",
      "source": [
        "def batched_k_assembly_cpu(a, weak_form, dh, batch_sz=-1):\n",
        "    n_cells = len(dh.grid.cells)\n",
        "    n_dims = dh.grid.n_dim\n",
        "    if batch_sz <= 0:\n",
        "        batch_sz = n_cells\n",
        "    batch_sz = min(batch_sz, n_cells)\n",
        "    stiffness = weak_form.material.stiffness\n",
        "    weights = weak_form.element.weights\n",
        "    n_dofs_cell = dh.ndofs_per_cell(dh.grid)\n",
        "    K_shape = (dh.get_ndofs_total(), dh.get_ndofs_total())\n",
        "    f_shape = (dh.get_ndofs_total(), 1)\n",
        "    # Setup kernel inputs\n",
        "    dofs = np.zeros((batch_sz, n_dofs_cell), dtype=np.int32)\n",
        "    ke = np.zeros((batch_sz, n_dofs_cell, n_dofs_cell), dtype=np.float32)\n",
        "    re = np.zeros((batch_sz, n_dofs_cell), dtype=np.float32)\n",
        "    xe = np.zeros((batch_sz, dh.grid.nnodes_per_cell(), n_dims), dtype=np.float32)\n",
        "    ue = np.zeros((batch_sz, n_dofs_cell), dtype=np.float32)\n",
        "    # Assemble K and f components\n",
        "    for batchptr in range(0, n_cells, batch_sz):\n",
        "        actual_batch_sz = min(batch_sz, n_cells - batchptr)\n",
        "        dofs.fill(0)\n",
        "        ke.fill(0)\n",
        "        re.fill(0)\n",
        "        xe = dh.grid.nodes[dh.grid.cells[batchptr:batchptr+actual_batch_sz]]\n",
        "        # NOTE: The methods dh.grid.get_coordinates() and dh.get_cell_dofs() are\n",
        "        # implemented in Numba to handle multi-dimensional indexing and speed-up\n",
        "        # the nested for-loops\n",
        "        get_dofs(dh.grid.cells[batchptr:batchptr+actual_batch_sz], a, dofs, ue)\n",
        "        batched_element_routine_cpu(stiffness, weak_form.thickness, weights, xe,\n",
        "                                    ue, ke, re) #, detJ, J, B, dNdxi, dNdx)\n",
        "        # Update K and f COO components\n",
        "        K_idx, f_idx = get_coo_indices(dofs)\n",
        "        if batchptr == 0:\n",
        "            K_rows = K_idx[0]\n",
        "            K_cols = K_idx[1]\n",
        "            f_rows = f_idx[0]\n",
        "            f_cols = f_idx[1]\n",
        "            K_data = ke.flatten()\n",
        "            f_data = re.flatten()\n",
        "        else:\n",
        "            np.concatenate((K_rows, K_idx[0]))\n",
        "            np.concatenate((K_cols, K_idx[1]))\n",
        "            np.concatenate((f_rows, f_idx[0]))\n",
        "            np.concatenate((f_cols, f_idx[1]))\n",
        "            np.concatenate((K_data, ke.flatten()))\n",
        "            np.concatenate((f_data, re.flatten()))\n",
        "    # Convert lists to COO matrices\n",
        "    # NOTE: Components at same indeces are automatically accumulated together\n",
        "    K_data = np.array(K_data, dtype=np.float32).flatten()\n",
        "    K_rows = np.array(K_rows, dtype=np.int32).flatten()\n",
        "    K_cols = np.array(K_cols, dtype=np.int32).flatten()\n",
        "    K = coo_matrix((K_data, (K_rows, K_cols)), shape=K_shape, dtype=np.float32)\n",
        "    f_data = np.array(f_data, dtype=np.float32).flatten()\n",
        "    f_rows = np.array(f_rows, dtype=np.int32).flatten()\n",
        "    f_cols = np.array(f_cols, dtype=np.int32).flatten()\n",
        "    f = coo_matrix((f_data, (f_rows, f_cols)), shape=f_shape, dtype=np.float32).toarray()\n",
        "    return K, f"
      ],
      "metadata": {
        "id": "iNYW-jE8RwCB"
      },
      "execution_count": 21,
      "outputs": []
    },
    {
      "cell_type": "markdown",
      "source": [
        "With this refactory, we can compare the batched implementation with the naive version."
      ],
      "metadata": {
        "id": "a7BW78ap3dBb"
      }
    },
    {
      "cell_type": "code",
      "source": [
        "import timeit\n",
        "\n",
        "a, weak_form, dh, dofs_glob = generate_fem_problem(lcar=0.09)\n",
        "fem = lambda: naive_k_assembly_cpu(a, weak_form, dh)\n",
        "naive_t = timeit.timeit(stmt=fem, number=10)\n",
        "# Reset a, then measure batched implementation time\n",
        "a = np.zeros(dh.get_ndofs_total())\n",
        "a[dofs_glob['top'][:, 1]] = -0.1\n",
        "# Force compilation\n",
        "K, f = batched_k_assembly_cpu(a, weak_form, dh, batch_sz=-1)\n",
        "fem = lambda: batched_k_assembly_cpu(a, weak_form, dh)\n",
        "batched_t = timeit.timeit(stmt=fem, number=10)\n",
        "print(f'Batched version over naive version speedup: {naive_t / batched_t:.2f}x')"
      ],
      "metadata": {
        "colab": {
          "base_uri": "https://localhost:8080/"
        },
        "id": "rg2GHT1pz6QC",
        "outputId": "f1fa807f-d1b3-4fb0-8765-57cb34560026"
      },
      "execution_count": 22,
      "outputs": [
        {
          "output_type": "stream",
          "name": "stdout",
          "text": [
            "Batched version over naive version speedup: 451.93x\n"
          ]
        }
      ]
    },
    {
      "cell_type": "markdown",
      "source": [
        "As we can see, the batched version is already showing a considerable speedup."
      ],
      "metadata": {
        "id": "PzroYFGw3nkq"
      }
    },
    {
      "cell_type": "markdown",
      "source": [
        "### Profiling\n",
        "\n",
        "This section about code profiling is reported for completeness, but its output is omitted for brevity."
      ],
      "metadata": {
        "id": "fnnUIvNob_aB"
      }
    },
    {
      "cell_type": "code",
      "source": [
        "#@title\n",
        "# a, weak_form, dh, dofs_glob = generate_rand_fem_problem(filename=f'data/randgrid_n{int(3e3)}.npz')\n",
        "# a, weak_form, dh, dofs_glob = generate_fem_problem(lcar=0.001)\n",
        "print(f'Number of cells: {len(dh.grid.cells)}')\n",
        "print(f'Number of nodes: {len(dh.grid.nodes)}')\n",
        "K_dim = dh.get_ndofs_total()\n",
        "print(f'a dimensions: ({K_dim}, 1)')\n",
        "print(f'K dimensions: ({K_dim}, {K_dim}) (Total elements: {K_dim * K_dim})')"
      ],
      "metadata": {
        "id": "-DKDF8_bb_aC"
      },
      "execution_count": null,
      "outputs": []
    },
    {
      "cell_type": "code",
      "source": [
        "# Reset a, in case this code is called multiple times\n",
        "a = np.zeros(dh.get_ndofs_total())\n",
        "a[dofs_glob['top'][:, 1]] = -0.1\n",
        "# Force compilation\n",
        "K, f = batched_k_assembly_cpu(a, weak_form, dh, batch_sz=-1)\n",
        "# Init profiler\n",
        "profiler = cProfile.Profile()\n",
        "profiler.enable()\n",
        "# Run CPU functions\n",
        "K, f = batched_k_assembly_cpu(a, weak_form, dh, batch_sz=-1)\n",
        "a[dofs_glob['free']], _ = run_solver(K, f, a, dofs_glob,\n",
        "                                     solver=scipy.sparse.linalg.minres)\n",
        "# Stop profiling\n",
        "profiler.disable()\n",
        "# Create statistics from the profiler, sorted by cumulative time\n",
        "stats = pstats.Stats(profiler).sort_stats('cumtime')\n",
        "# Print the 10 (inclusive) most expensive functions\n",
        "stats.print_stats(10)"
      ],
      "metadata": {
        "id": "fjvr785Tb_aF"
      },
      "execution_count": null,
      "outputs": []
    },
    {
      "cell_type": "markdown",
      "source": [
        "## Batched FEM on GPU\n",
        "\n",
        "The CuPy library has been developed as a GPU equivalent of Numpy and SciPy functions and features. Because of that, the aforementioned batched implementation can be easily be ported to CuPy functions. "
      ],
      "metadata": {
        "id": "VmuCSMFJc9x8"
      }
    },
    {
      "cell_type": "code",
      "source": [
        "import cupy as cp\n",
        "import cupyx as cpx\n",
        "import cupyx.scipy.sparse.linalg\n",
        "from numba import cuda"
      ],
      "metadata": {
        "id": "pL3BwVK_dO7b"
      },
      "execution_count": 23,
      "outputs": []
    },
    {
      "cell_type": "markdown",
      "source": [
        "### Batched Element Routine on GPU"
      ],
      "metadata": {
        "id": "oB8dDkZAdU5X"
      }
    },
    {
      "cell_type": "code",
      "source": [
        "def cupy_jacobi_det_cell3_2D(xe):\n",
        "    return ((xe[:, 1, 0] - xe[:, 0, 0]) * (xe[:, 2, 1] - xe[:, 0, 1]) -\n",
        "            (xe[:, 2, 0] - xe[:, 0, 0]) * (xe[:, 1, 1] - xe[:, 0, 1]))\n",
        "\n",
        "\n",
        "def cupy_jacobian_cell3_2D(xe, J):\n",
        "    # TODO(Kim): Not generally constant, could depend on iso_coord (xi)\n",
        "    J[:, 0, 0] = xe[:, 1, 0] - xe[:, 0, 0]\n",
        "    J[:, 0, 1] = xe[:, 2, 0] - xe[:, 0, 0]\n",
        "    J[:, 1, 0] = xe[:, 1, 1] - xe[:, 0, 1]\n",
        "    J[:, 1, 1] = xe[:, 2, 1] - xe[:, 0, 1]\n",
        "\n",
        "\n",
        "def cupy_assemble_B(dNdx, B):\n",
        "    \"\"\"\n",
        "    B: (batch_sz, n_nodes_cell, n_dofs_cell)\n",
        "    dNdx: (batch_sz, 3, 2)\n",
        "    \"\"\"\n",
        "    for j in range(dNdx.shape[1]):\n",
        "        dNidx = dNdx[:, j, 0]\n",
        "        dNidy = dNdx[:, j, 1]\n",
        "        B[:, 0, 2 * j] = dNidx\n",
        "        B[:, 2, 2 * j] = dNidy\n",
        "        B[:, 1, 2 * j + 1] = dNidy\n",
        "        B[:, 2, 2 * j + 1] = dNidx"
      ],
      "metadata": {
        "id": "Xzset_tldU5a"
      },
      "execution_count": 24,
      "outputs": []
    },
    {
      "cell_type": "code",
      "source": [
        "def batched_element_routine_gpu(stiffness, thickness, weights, xe, ue, ke, re,\n",
        "                                detJ=None, J=None, B=None, dNdxi=None,\n",
        "                                dNdx=None):\n",
        "    batch_sz = xe.shape[0]\n",
        "    n_dofs_cell = ue.shape[1]\n",
        "    # Init local variables if not provided\n",
        "    if J is None:\n",
        "        J = cp.zeros((batch_sz, 2, 2), dtype=cp.float32) # Shape: (b, 2, 2)\n",
        "    if B is None:\n",
        "        # TODO(Stefano): For now, B doesn't depend on nqp\n",
        "        nqp = weights.shape[0]\n",
        "        B = cp.zeros((batch_sz, dh.grid.nnodes_per_cell(), n_dofs_cell), dtype=cp.float32)\n",
        "    if dNdxi is None:\n",
        "        dNdxi = cp.array([[-1.0, -1.0], [1.0, 0.0], [0.0, 1.0]], dtype=cp.float32) # Shape: (3, 2)\n",
        "    if dNdx is None:\n",
        "        dNdx = cp.empty((batch_sz, *dNdxi.shape), dtype=cp.float32)\n",
        "    # Get shape of gradients\n",
        "    detJ = cupy_jacobi_det_cell3_2D(xe)\n",
        "    cupy_jacobian_cell3_2D(xe, J)\n",
        "    JinvT = cp.linalg.inv(J).transpose((0, 2, 1))\n",
        "    dNdx = cp.matmul(JinvT, dNdxi.T).transpose((0, 2, 1))\n",
        "    # Get B\n",
        "    cupy_assemble_B(dNdx, B)\n",
        "    BT = B.transpose((0, 2, 1))\n",
        "    # Setup element routine\n",
        "    detJw = detJ * weights\n",
        "    dsde = stiffness\n",
        "    # Run element routine\n",
        "    epsilon = cp.einsum('bij,bj->bi', B, ue)\n",
        "    sigma = cp.einsum('ij,bj->bi', dsde, epsilon)\n",
        "    BTsigma = cp.einsum('bij,bj->bi', BT, sigma)\n",
        "    BTdsdeB = cp.matmul(cp.matmul(BT, dsde), B)\n",
        "    re += BTsigma * detJw[:, None]\n",
        "    ke += BTdsdeB * detJw[:, None, None]\n",
        "    re *= thickness\n",
        "    ke *= thickness"
      ],
      "metadata": {
        "id": "lbCQ5k1edU5c"
      },
      "execution_count": 25,
      "outputs": []
    },
    {
      "cell_type": "markdown",
      "source": [
        "### K-Assembly on GPU"
      ],
      "metadata": {
        "id": "Pp8mzUlTduGo"
      }
    },
    {
      "cell_type": "code",
      "source": [
        "def batched_k_assembly_gpu(a, weak_form, dh, batch_sz=-1):\n",
        "    n_cells = len(dh.grid.cells)\n",
        "    n_dims = dh.grid.n_dim\n",
        "    if batch_sz <= 0:\n",
        "        batch_sz = n_cells\n",
        "    batch_sz = min(batch_sz, n_cells)\n",
        "    stiffness = cp.asarray(weak_form.material.stiffness)\n",
        "    weights = cp.asarray(weak_form.element.weights)\n",
        "    K_shape = (dh.get_ndofs_total(), dh.get_ndofs_total())\n",
        "    f_shape = (dh.get_ndofs_total(), 1)\n",
        "    # Assemble K and f components\n",
        "    for batchptr in range(0, n_cells, batch_sz):\n",
        "        actual_batch_sz = min(batch_sz, n_cells - batchptr)\n",
        "        # Init local variables for element loop (re-use them across iterations)\n",
        "        n_dofs_cell = dh.ndofs_per_cell(dh.grid)\n",
        "        dofs = np.zeros((actual_batch_sz, n_dofs_cell), dtype=cp.int32)\n",
        "        ke = cp.zeros((actual_batch_sz, n_dofs_cell, n_dofs_cell), dtype=cp.float32)\n",
        "        re = cp.zeros((actual_batch_sz, n_dofs_cell), dtype=cp.float32)\n",
        "        xe = cp.zeros((actual_batch_sz, dh.grid.nnodes_per_cell(), n_dims), dtype=cp.float32)\n",
        "        ue = np.zeros((actual_batch_sz, n_dofs_cell), dtype=cp.float32)\n",
        "        # Setup kernel icputs\n",
        "        xe = dh.grid.nodes[dh.grid.cells[batchptr:batchptr+actual_batch_sz]]\n",
        "        # NOTE: The methods dh.grid.get_coordinates() and dh.get_cell_dofs() are\n",
        "        # implemented in Numba to handle multi-dimensional indexing and speed-up\n",
        "        # the nested for-loops\n",
        "        get_dofs(dh.grid.cells[batchptr:batchptr+actual_batch_sz], a, dofs, ue)\n",
        "        xe_d = cp.asarray(xe)\n",
        "        ue_d = cp.asarray(ue)\n",
        "        batched_element_routine_gpu(stiffness, weak_form.thickness, weights,\n",
        "                                    xe_d, ue_d, ke, re)\n",
        "        # Update K and f COO components\n",
        "        K_idx, f_idx = get_coo_indices(dofs)\n",
        "        if batchptr == 0:\n",
        "            K_rows = cp.asarray(K_idx[0])\n",
        "            K_cols = cp.asarray(K_idx[1])\n",
        "            f_rows = cp.asarray(f_idx[0])\n",
        "            f_cols = cp.asarray(f_idx[1])\n",
        "            K_data = ke.flatten()\n",
        "            f_data = re.flatten()\n",
        "        else:\n",
        "            cp.concatenate((K_rows, cp.asarray(K_idx[0])))\n",
        "            cp.concatenate((K_cols, cp.asarray(K_idx[1])))\n",
        "            cp.concatenate((f_rows, cp.asarray(f_idx[0])))\n",
        "            cp.concatenate((f_cols, cp.asarray(f_idx[1])))\n",
        "            cp.concatenate((K_data, ke.flatten()))\n",
        "            cp.concatenate((f_data, re.flatten()))\n",
        "    # Convert lists to COO matrices\n",
        "    # NOTE: Components at same indeces are automatically accumulated together\n",
        "    K_data = cp.array(K_data, dtype=cp.float32).flatten()\n",
        "    K_rows = cp.array(K_rows, dtype=cp.int32).flatten()\n",
        "    K_cols = cp.array(K_cols, dtype=cp.int32).flatten()\n",
        "    K = cpx.scipy.sparse.coo_matrix((K_data, (K_rows, K_cols)), shape=K_shape, dtype=cp.float32)\n",
        "    f_data = cp.array(f_data, dtype=cp.float32).flatten()\n",
        "    f_rows = cp.array(f_rows, dtype=cp.int32).flatten()\n",
        "    f_cols = cp.array(f_cols, dtype=cp.int32).flatten()\n",
        "    f = cpx.scipy.sparse.coo_matrix((f_data, (f_rows, f_cols)), shape=f_shape, dtype=cp.float32).toarray()\n",
        "    return K, f"
      ],
      "metadata": {
        "id": "3z4aHVn0duGs"
      },
      "execution_count": 26,
      "outputs": []
    },
    {
      "cell_type": "markdown",
      "source": [
        "### Profiling\n",
        "\n",
        "This section about code profiling is reported for completeness, but its output is omitted for brevity."
      ],
      "metadata": {
        "id": "YOgXQJXjduGv"
      }
    },
    {
      "cell_type": "code",
      "source": [
        "# a, weak_form, dh, dofs_glob = generate_rand_fem_problem(filename=f'data/randgrid_n{int(3e3)}.npz')\n",
        "# a, weak_form, dh, dofs_glob = generate_fem_problem(lcar=0.01)\n",
        "print(f'Number of cells: {len(dh.grid.cells)}')\n",
        "print(f'Number of nodes: {len(dh.grid.nodes)}')\n",
        "K_dim = dh.get_ndofs_total()\n",
        "print(f'a dimensions: ({K_dim}, 1)')\n",
        "print(f'K dimensions: ({K_dim}, {K_dim}) (Total elements: {K_dim * K_dim})')"
      ],
      "metadata": {
        "id": "Gk2B4WLmduGy"
      },
      "execution_count": null,
      "outputs": []
    },
    {
      "cell_type": "code",
      "source": [
        "#@title\n",
        "from cupyx.profiler import benchmark\n",
        "\n",
        "# Reset a, in case this code is called multiple times\n",
        "a = np.zeros(dh.get_ndofs_total())\n",
        "a[dofs_glob['top'][:, 1]] = -0.1\n",
        "# init profiler\n",
        "profiler = cProfile.Profile()\n",
        "profiler.enable()\n",
        "# Run GPU functions\n",
        "K, f = batched_k_assembly_gpu(a, weak_form, dh, batch_sz=8196*16)\n",
        "a_gpu, _ = run_solver(K, f, cp.asarray(a), dofs_glob, solver=cpx.scipy.sparse.linalg.minres)\n",
        "a[dofs_glob['free']] = a_gpu.get()\n",
        "# Stop profiling\n",
        "profiler.disable()\n",
        "# Create statistics from the profiler, sorted by cumulative time\n",
        "stats = pstats.Stats(profiler).sort_stats('cumtime')\n",
        "# Print the 10 (inclusive) most expensive functions\n",
        "stats.print_stats(10)\n",
        "# K.nnz"
      ],
      "metadata": {
        "id": "e3ND3Ef5duGz"
      },
      "execution_count": null,
      "outputs": []
    },
    {
      "cell_type": "code",
      "source": [
        "plt.title('Global stiffness matrix')\n",
        "plot_K(K.get())"
      ],
      "metadata": {
        "id": "F_Jw_jy15Sx6"
      },
      "execution_count": null,
      "outputs": []
    },
    {
      "cell_type": "code",
      "source": [
        "plot_grid(a, dh)"
      ],
      "metadata": {
        "id": "BdbZ13iu5fgX"
      },
      "execution_count": null,
      "outputs": []
    },
    {
      "cell_type": "markdown",
      "source": [
        "## Custom CUDA Kernel on GPU\n",
        "\n",
        "The CuPy implementation treats each function call as a single GPU kernel call. In this section we instead explore the design and implementation of a single custom kernel for the element routine function. This will also allow us to explore more fine-grained configurations in the kernel call, such as the grid size and the amount of threads per block. Our implementation will rely on Numba compilation targeting CUDA."
      ],
      "metadata": {
        "id": "6uvEmiM66gDC"
      }
    },
    {
      "cell_type": "markdown",
      "source": [
        "### Design Space Exploration (GPU)"
      ],
      "metadata": {
        "id": "mi9nKIpQQswE"
      }
    },
    {
      "cell_type": "markdown",
      "source": [
        "#### Number of Blocks vs. Number of Threads"
      ],
      "metadata": {
        "id": "8KCK2N9LfF1Q"
      }
    },
    {
      "cell_type": "code",
      "source": [
        "def sz2MB(sz):\n",
        "    return sz * 4 / (1024 * 1024)\n",
        "\n",
        "def sz2GB(sz):\n",
        "    return sz2MB(sz) / 1024\n",
        "\n",
        "def get_sizes(n_cells, batch_sz):\n",
        "    sizes = {}\n",
        "    B_sz = n_nodes_per_cell * n_dofs_per_cell\n",
        "    epsilon_sz = n_nodes_per_cell\n",
        "    sigma_sz = n_nodes_per_cell\n",
        "    BTsigma_sz = n_dofs_per_cell\n",
        "    BTdsde_sz = n_dofs_per_cell * n_dofs_per_cell\n",
        "    BTdsdeB_sz = n_dofs_per_cell * n_dofs_per_cell\n",
        "    sizes['Thread'] = (B_sz + epsilon_sz + sigma_sz + BTsigma_sz + BTdsde_sz +\n",
        "                       BTdsdeB_sz + 3)\n",
        "    sizes['Kernel'] = batch_sz * sizes['Thread']\n",
        "    sizes['Total'] = sizes['Kernel']\n",
        "\n",
        "    dofs = n_cells * n_dofs_per_cell\n",
        "    xe = n_cells * n_nodes_per_cell * n_dims\n",
        "    ue = n_cells * n_dofs_per_cell\n",
        "    sizes['Arrays'] = dofs + xe + ue\n",
        "    sizes['Total'] += sizes['Arrays']\n",
        "\n",
        "    K_sz = n_cells * n_dofs_per_cell * n_dofs_per_cell\n",
        "    f_sz = n_cells * n_dofs_per_cell\n",
        "    f_rows_sz = n_cells * n_dofs_per_cell\n",
        "    f_cols_sz = n_cells * n_dofs_per_cell\n",
        "    K_rows_sz = n_cells * n_dofs_per_cell * n_dofs_per_cell\n",
        "    K_cols_sz = n_cells * n_dofs_per_cell * n_dofs_per_cell\n",
        "    sizes['K - COO Format'] = K_sz + K_rows_sz + K_cols_sz\n",
        "    sizes['f - COO Format'] = f_sz + f_rows_sz + f_cols_sz\n",
        "    sizes['Total'] += sizes['K - COO Format'] + sizes['f - COO Format']\n",
        "    return sizes\n",
        "\n",
        "n_cells = int(3e6)\n",
        "batch_sz = n_cells\n",
        "used_GB = sz2GB(get_sizes(n_cells, batch_sz)['Total'] * 4)\n",
        "print(f'Estimated memory used: {used_GB} GB')"
      ],
      "metadata": {
        "id": "0SYUtTe0G1-G",
        "colab": {
          "base_uri": "https://localhost:8080/"
        },
        "outputId": "ba7e92a8-c424-4dcf-d6a8-c8d284f170a5"
      },
      "execution_count": null,
      "outputs": [
        {
          "output_type": "stream",
          "name": "stdout",
          "text": [
            "Estimated memory used: 11.1311674118042 GB\n"
          ]
        }
      ]
    },
    {
      "cell_type": "code",
      "source": [
        "MaxGridDimX = 2147483647\n",
        "MaxBlockDimX = 1024\n",
        "MaxSharedMemoryPerBlock = 49152\n",
        "MaxRegistersPerBlock = 65536\n",
        "WarpSize = 32\n",
        "MaxThreadsPerBlock = 1024\n",
        "\n",
        "threadsperblock = 64\n",
        "blockspergrid = (batch_sz + (threadsperblock - 1)) // threadsperblock\n",
        "\n",
        "sizes = get_sizes(MaxGridDimX, MaxGridDimX)\n",
        "sizes['Thread'] * 4"
      ],
      "metadata": {
        "colab": {
          "base_uri": "https://localhost:8080/"
        },
        "id": "KrmnuUJaYI3A",
        "outputId": "27ff9986-de6c-4c48-bb28-b9a54093aab4"
      },
      "execution_count": null,
      "outputs": [
        {
          "output_type": "execute_result",
          "data": {
            "text/plain": [
              "420"
            ]
          },
          "metadata": {},
          "execution_count": 41
        }
      ]
    },
    {
      "cell_type": "markdown",
      "source": [
        "### Element Routine CUDA Kernel"
      ],
      "metadata": {
        "id": "JnIxBE8Oa0U-"
      }
    },
    {
      "cell_type": "code",
      "source": [
        "import cupy as cp\n",
        "import cupyx as cpx\n",
        "import cupyx.scipy.sparse.linalg\n",
        "from numba import cuda"
      ],
      "metadata": {
        "id": "lvxzYLDZYK3L"
      },
      "execution_count": null,
      "outputs": []
    },
    {
      "cell_type": "markdown",
      "source": [
        "The kernel needs to know arrays dimensions, _i.e._, shapes, at \"compile time\". In our case, they will depend on the dimensions of the FEM problem we are solving. Unfortunately, Numba support is very limited for advanced functions, _e.g._, matrix-matrix and matrix-vector multiplication. Because of that, we implement them as Numba CUDA device functions as follows."
      ],
      "metadata": {
        "id": "vbsbjeRB9Znf"
      }
    },
    {
      "cell_type": "code",
      "source": [
        "import math\n",
        "\n",
        "@cuda.jit(device=True, inline=True)\n",
        "def invert_2x2(A):\n",
        "    a, b, c, d = A[0, 0], A[0, 1], A[1, 0], A[1, 1]\n",
        "    detA = a * d - b * c\n",
        "    A[0, 0] = d / detA\n",
        "    A[0, 1] = -b / detA\n",
        "    A[1, 0] = -c / detA\n",
        "    A[1, 1] = a / detA\n",
        "\n",
        "@cuda.jit(device=True, inline=True)\n",
        "def jacobi_det(xe):\n",
        "    return ((xe[1, 0] - xe[0, 0]) * (xe[2, 1] - xe[0, 1]) -\n",
        "            (xe[2, 0] - xe[0, 0]) * (xe[1, 1] - xe[0, 1]))\n",
        "\n",
        "@cuda.jit(device=True, inline=True)\n",
        "def jacobian(xe, J):\n",
        "    # TODO(Kim): Not generally constant, could depend on iso_coord (xi)\n",
        "    J[0, 0] = xe[1, 0] - xe[0, 0]\n",
        "    J[0, 1] = xe[2, 0] - xe[0, 0]\n",
        "    J[1, 0] = xe[1, 1] - xe[0, 1]\n",
        "    J[1, 1] = xe[2, 1] - xe[0, 1]\n",
        "\n",
        "@cuda.jit(device=True, inline=True)\n",
        "def B_operator(xe, B):\n",
        "    J = nb.cuda.local.array((2, 2), float32)\n",
        "    dNdxi = nb.cuda.local.array((3, n_dims), float32)\n",
        "    dNdxi[0, 0], dNdxi[0, 1] = -1.0, -1.0\n",
        "    dNdxi[1, 0], dNdxi[1, 1] = 1.0, 0.0\n",
        "    dNdxi[2, 0], dNdxi[2, 1] = 0.0, 1.0\n",
        "    jacobian(xe, J)\n",
        "    invert_2x2(J)\n",
        "    J = J.T\n",
        "    for i in range(dNdxi.shape[0]):\n",
        "        dNidx = dot(J[:, 0], dNdxi[i])\n",
        "        dNidy = dot(J[:, 1], dNdxi[i])\n",
        "        B[0, 2 * i] = dNidx\n",
        "        B[2, 2 * i] = dNidy\n",
        "        B[1, 2 * i + 1] = dNidy\n",
        "        B[2, 2 * i + 1] = dNidx\n",
        "\n",
        "@cuda.jit(device=True, inline=True)\n",
        "def dot(a, b):\n",
        "    c = float32(0.0)\n",
        "    for a_elem, b_elem in zip(a, b):\n",
        "        c += a_elem * b_elem\n",
        "    return c\n",
        "\n",
        "@cuda.jit(device=True, inline=True)\n",
        "def matmul(A, B, C):\n",
        "    for i in range(A.shape[0]):\n",
        "        for j in range(B.shape[1]):\n",
        "            C[i, j] = dot(A[i, :], B[:, j])\n",
        "\n",
        "@cuda.jit(device=True, inline=True)\n",
        "def matvmul(A, B, C):\n",
        "    for i in range(A.shape[0]):\n",
        "        C[i] = dot(A[i, :], B)\n",
        "\n",
        "@cuda.jit(device=True, inline=True)\n",
        "def macv(x, a, y):\n",
        "    for i, (x_elem, y_elem) in enumerate(zip(x.flat, y.flat)):\n",
        "        y.flat[i] = y_elem + x_elem * a\n",
        "\n",
        "@cuda.jit(device=True, inline=True)\n",
        "def mulv(x, a):\n",
        "    for i, x_elem in enumerate(x.flat):\n",
        "        x.flat[i] = x_elem * a\n",
        "\n",
        "@cuda.jit(device=True, inline=True)\n",
        "def element_routine(thickness, xe, ue, weights, stiffness, re, ke):\n",
        "    '''\n",
        "    n_dofs_node = 2\n",
        "    n_nodes_cell = 3\n",
        "    n_dofs_cell = n_dofs_node * n_nodes_cell = 6\n",
        "    n_dims = 3\n",
        "\n",
        "    thickness: 1 [scalar]\n",
        "    xe: (n_nodes_cell, n_dims)\n",
        "    ue: (n_dofs_cell)\n",
        "    weights: (nqp) [number of quadrature points]\n",
        "    stiffness: (3, 3) ???\n",
        "    re: (n_dofs_cell)\n",
        "    ke: (n_dofs_cell, n_dofs_cell)\n",
        "\n",
        "    Jinv_t: (2, 2)\n",
        "    dNdxi: (3, 2)\n",
        "    B: (3, 6)\n",
        "    ue: (6,)\n",
        "    epsilon: (3,)\n",
        "    sigma: (3,)\n",
        "    dsde: (3, 3)\n",
        "    '''\n",
        "    B = nb.cuda.local.array((n_nodes_per_cell, n_dofs_per_cell), float32)\n",
        "    epsilon = nb.cuda.local.array((n_nodes_per_cell), float32)\n",
        "    sigma = nb.cuda.local.array((n_nodes_per_cell), float32)\n",
        "    BTsigma = nb.cuda.local.array(n_dofs_per_cell, float32)\n",
        "    BTdsde = nb.cuda.local.array((n_dofs_per_cell, n_dofs_per_cell), float32)\n",
        "    BTdsdeB = nb.cuda.local.array((n_dofs_per_cell, n_dofs_per_cell), float32)\n",
        "    # Computation\n",
        "    detJ = jacobi_det(xe)\n",
        "    B_operator(xe, B)\n",
        "    nqp = weights.shape[0]\n",
        "    for qp in range(nqp):\n",
        "        w = weights[qp]\n",
        "        matvmul(B, ue, epsilon)\n",
        "        matvmul(stiffness, epsilon, sigma)\n",
        "        matvmul(B.T, sigma, BTsigma)\n",
        "        matmul(B.T, stiffness, BTdsde)\n",
        "        matmul(BTdsde, B, BTdsdeB)\n",
        "        detJw = detJ * w\n",
        "        macv(BTsigma, detJw, re)\n",
        "        macv(BTdsdeB, detJw, ke)\n",
        "    mulv(re, thickness)\n",
        "    mulv(ke, thickness)"
      ],
      "metadata": {
        "id": "rbk-nFAgE9sP"
      },
      "execution_count": 27,
      "outputs": []
    },
    {
      "cell_type": "markdown",
      "source": [
        "Let's finally define a kernel which simply calls the element routine CUDA device function."
      ],
      "metadata": {
        "id": "pjqNt7zD8DPM"
      }
    },
    {
      "cell_type": "code",
      "source": [
        "@cuda.jit\n",
        "def elem_routine_kernel(thickness, stiffness_host, weights_host, xe_host,\n",
        "                        ue_host, re_host, ke_host):\n",
        "    # Thread ID in a 1D block\n",
        "    tx = cuda.threadIdx.x\n",
        "    # Block ID in a 1D grid\n",
        "    ty = cuda.blockIdx.x\n",
        "    # Block width, i.e. number of threads per block\n",
        "    bw = cuda.blockDim.x\n",
        "    # Compute flattened index inside the array\n",
        "    pos = tx + ty * bw\n",
        "    # Computation: make sure not to access elements outside the grid dimensions\n",
        "    n_cells = xe_host.shape[0]\n",
        "    if pos < n_cells:\n",
        "        element_routine(thickness, xe_host[pos], ue_host[pos], weights_host,\n",
        "                        stiffness_host, re_host[pos], ke_host[pos])"
      ],
      "metadata": {
        "id": "haby1iJw7gZC"
      },
      "execution_count": 28,
      "outputs": []
    },
    {
      "cell_type": "markdown",
      "source": [
        "### K-Assembly with CUDA Kernel on GPU"
      ],
      "metadata": {
        "id": "w8ORSsplYclX"
      }
    },
    {
      "cell_type": "markdown",
      "source": [
        "Similarly to the previous solutions, the K-assembly wrapper function loops over the batches and call the CUDA kernel over them."
      ],
      "metadata": {
        "id": "rmTz5r59bve4"
      }
    },
    {
      "cell_type": "code",
      "source": [
        "def naive_k_assembly_gpu(a, weak_form, dh, batch_sz=-1, threadsperblock=64):\n",
        "    n_cells = dh.grid.get_num_cells()\n",
        "    n_dims = dh.grid.n_dim\n",
        "    n_dofs_cell = dh.ndofs_per_cell(dh.grid)\n",
        "    n_nodes_cell = dh.grid.nnodes_per_cell()\n",
        "    if batch_sz <= 0:\n",
        "        batch_sz = n_cells\n",
        "    batch_sz = min(batch_sz, n_cells)\n",
        "    with cp.cuda.Device(0) as device:\n",
        "        if threadsperblock < device.attributes['WarpSize']:\n",
        "            threadsperblock = device.attributes['WarpSize']\n",
        "        if threadsperblock > device.attributes['MaxThreadsPerBlock']:\n",
        "            threadsperblock = device.attributes['MaxThreadsPerBlock']\n",
        "        if threadsperblock % device.attributes['WarpSize'] != 0:\n",
        "            threadsperblock -= threadsperblock % device.attributes['WarpSize']\n",
        "\n",
        "    # Init local variables for element loop (re-use them across iterations)\n",
        "    dofs = np.empty((batch_sz, n_dofs_cell), dtype=np.int32)\n",
        "    xe = np.empty((batch_sz, n_nodes_cell, n_dims), dtype=np.float32) \n",
        "    ue = np.empty((batch_sz, n_dofs_cell), dtype=np.float32)\n",
        "    ke = np.zeros((batch_sz, n_dofs_cell, n_dofs_cell), dtype=np.float32)\n",
        "    re = np.zeros((batch_sz, n_dofs_cell), dtype=np.float32)\n",
        "    # Specify CUDA kernel dimensions\n",
        "    blockspergrid = (batch_sz + (threadsperblock - 1)) // threadsperblock\n",
        "    # Move \"constant\" data to device (i.e. not depending on cell ID)\n",
        "    stiffness_d = cuda.to_device(weak_form.material.stiffness)\n",
        "    weights_d = cuda.to_device(weak_form.element.weights)\n",
        "    # TODO: Keep data on GPU if and only if they fit its memory!\n",
        "    keep_on_gpu = True\n",
        "    with cp.cuda.Device(0) as device:\n",
        "        free_bytes, total_bytes = device.mem_info\n",
        "        # print(f'GPU available memory: {total_bytes} B')\n",
        "        # print(f'GPU free memory: {free_bytes} B')\n",
        "\n",
        "    K_shape = (dh.get_ndofs_total(), dh.get_ndofs_total())\n",
        "    f_shape = (dh.get_ndofs_total(), 1)\n",
        "\n",
        "    # Run over batches\n",
        "    # NOTE: Each \"batch\" will become a \"grid\" from the kernel perspective.\n",
        "    for batchptr in range(0, n_cells, batch_sz):\n",
        "        actual_batch_sz = min(batch_sz, n_cells - batchptr)\n",
        "        # Setup kernel inputs\n",
        "        dofs.fill(0)\n",
        "        xe.fill(0)\n",
        "        ue.fill(0)\n",
        "        ke.fill(0)\n",
        "        re.fill(0)\n",
        "        xe = dh.grid.nodes[dh.grid.cells[batchptr:batchptr+actual_batch_sz]]\n",
        "        # NOTE: The methods dh.grid.get_coordinates() and dh.get_cell_dofs() are\n",
        "        # implemented in Numba to handle multi-dimensional indexing and speed-up\n",
        "        # the nested for-loops\n",
        "        get_dofs(dh.grid.cells[batchptr:batchptr+actual_batch_sz], a, dofs, ue)\n",
        "        xe_d = cuda.to_device(xe)\n",
        "        ue_d = cuda.to_device(ue)\n",
        "        re_d = cuda.to_device(re)\n",
        "        ke_d = cuda.to_device(ke)\n",
        "        # Run kernel\n",
        "        elem_routine_kernel[blockspergrid, threadsperblock](weak_form.thickness,\n",
        "            stiffness_d, weights_d, xe_d, ue_d, re_d, ke_d)\n",
        "        K_idx, f_idx = get_coo_indices(dofs)\n",
        "        if keep_on_gpu:\n",
        "            K_idx0 = cp.asarray(K_idx[0])\n",
        "            K_idx1 = cp.asarray(K_idx[1])\n",
        "            f_idx0 = cp.asarray(f_idx[0])\n",
        "            f_idx1 = cp.asarray(f_idx[1])\n",
        "            if batchptr == 0:\n",
        "                K_data = cp.asarray(ke_d).flatten()\n",
        "                f_data = cp.asarray(re_d).flatten()\n",
        "                K_rows = K_idx0\n",
        "                K_cols = K_idx1\n",
        "                f_rows = f_idx0\n",
        "                f_cols = f_idx1\n",
        "                K = cpx.scipy.sparse.coo_matrix((K_data, (K_rows, K_cols)), shape=K_shape, dtype=cp.float32).tocsr()\n",
        "                f = cpx.scipy.sparse.coo_matrix((f_data, (f_rows, f_cols)), shape=f_shape, dtype=cp.float32).tocsr()\n",
        "            else:\n",
        "                K_data = cp.asarray(ke_d).flatten()\n",
        "                f_data = cp.asarray(re_d).flatten()\n",
        "                K_rows = K_idx0\n",
        "                K_cols = K_idx1\n",
        "                f_rows = f_idx0\n",
        "                f_cols = f_idx1\n",
        "                K += cpx.scipy.sparse.coo_matrix((K_data, (K_rows, K_cols)), shape=K_shape, dtype=cp.float32).tocsr()\n",
        "                f += cpx.scipy.sparse.coo_matrix((f_data, (f_rows, f_cols)), shape=f_shape, dtype=cp.float32).tocsr()\n",
        "        else:\n",
        "            if batchptr == 0:\n",
        "                K_data = ke_d.copy_to_host().flatten()\n",
        "                f_data = re_d.copy_to_host().flatten()\n",
        "                K_rows, K_cols = K_idx\n",
        "                f_rows, f_cols = f_idx\n",
        "            else:\n",
        "                K_rows = np.concatenate((K_rows, K_idx[0])).flatten()\n",
        "                K_cols = np.concatenate((K_cols, K_idx[1])).flatten()\n",
        "                f_rows = np.concatenate((f_rows, f_idx[0])).flatten()\n",
        "                f_cols = np.concatenate((f_cols, f_idx[1])).flatten()\n",
        "                # Retrieve data from GPU and update K and f COO components\n",
        "                K_data = np.concatenate((K_data, ke_d.copy_to_host().flatten()))\n",
        "                f_data = np.concatenate((f_data, re_d.copy_to_host().flatten()))\n",
        "    # Convert lists to COO matrices\n",
        "    # NOTE: Components at same indeces are automatically accumulated together\n",
        "    if keep_on_gpu:\n",
        "        # K = cpx.scipy.sparse.coo_matrix((K_data, (K_rows, K_cols)), dtype=cp.float32)\n",
        "        # f = cpx.scipy.sparse.coo_matrix((f_data, (f_rows, f_cols)), dtype=cp.float32).toarray()\n",
        "        f = f.toarray()\n",
        "    else:\n",
        "        K_data = np.array(K_data, dtype=np.float32).flatten()\n",
        "        K_rows = np.array(K_rows, dtype=np.int32).flatten()\n",
        "        K_cols = np.array(K_cols, dtype=np.int32).flatten()\n",
        "        K = coo_matrix((K_data, (K_rows, K_cols)), dtype=np.float32)\n",
        "        f_data = np.array(f_data, dtype=np.float32).flatten()\n",
        "        f_rows = np.array(f_rows, dtype=np.int32).flatten()\n",
        "        f_cols = np.array(f_cols, dtype=np.int32).flatten()\n",
        "        f = coo_matrix((f_data, (f_rows, f_cols)), dtype=np.float32).toarray()\n",
        "    return K, f"
      ],
      "metadata": {
        "id": "MGlzNkuTw0fC"
      },
      "execution_count": 29,
      "outputs": []
    },
    {
      "cell_type": "markdown",
      "source": [
        "### Profiling\n",
        "\n",
        "This section about code profiling is reported for completeness, but its output is omitted for brevity."
      ],
      "metadata": {
        "id": "_9LNgnOrYkLs"
      }
    },
    {
      "cell_type": "code",
      "source": [
        "#@title\n",
        "# a, weak_form, dh, dofs_glob = generate_rand_fem_problem(filename=f'data/randgrid_n{int(3e3)}.npz')\n",
        "# a, weak_form, dh, dofs_glob = generate_fem_problem(lcar=0.001)\n",
        "print(f'Number of cells: {len(dh.grid.cells)}')\n",
        "print(f'Number of nodes: {len(dh.grid.nodes)}')\n",
        "K_dim = dh.get_ndofs_total()\n",
        "print(f'a dimensions: ({K_dim}, 1)')\n",
        "print(f'K dimensions: ({K_dim}, {K_dim}) (Total elements: {K_dim * K_dim})')"
      ],
      "metadata": {
        "id": "trfwOzSGi8z8"
      },
      "execution_count": null,
      "outputs": []
    },
    {
      "cell_type": "code",
      "source": [
        "# Reset a, in case this code is called multiple times\n",
        "a = np.zeros(dh.get_ndofs_total())\n",
        "a[dofs_glob['top'][:, 1]] = -0.1\n",
        "# Reset memory pool, see: https://docs.cupy.dev/en/latest/user_guide/memory.html\n",
        "mempool = cp.get_default_memory_pool()\n",
        "mempool.free_all_blocks()\n",
        "\n",
        "profiler = cProfile.Profile()\n",
        "profiler.enable()\n",
        "# Run GPU kernel\n",
        "\n",
        "K, f = naive_k_assembly_gpu(a, weak_form, dh, batch_sz=8196*32, threadsperblock=1024*4)\n",
        "a_gpu, _ = run_solver(K, f, cp.asarray(a), dofs_glob, solver=cpx.scipy.sparse.linalg.minres)\n",
        "a[dofs_glob['free']] = a_gpu.get()\n",
        "\n",
        "# Stop profiling\n",
        "profiler.disable()\n",
        "# Create statistics from the profiler, sorted by cumulative time\n",
        "stats = pstats.Stats(profiler).sort_stats('cumtime')\n",
        "# Print the 10 (inclusive) most expensive functions\n",
        "stats.print_stats(10)\n",
        "K = K.get()\n",
        "K.nnz\n",
        "with cp.cuda.Device(0) as device:\n",
        "    free_bytes, total_bytes = device.mem_info\n",
        "    print(f'GPU available memory: {sz2GB(total_bytes / 4)} GB')\n",
        "    print(f'GPU free memory: {sz2GB(free_bytes / 4)} GB')"
      ],
      "metadata": {
        "id": "DDNGPsikqDeS"
      },
      "execution_count": null,
      "outputs": []
    },
    {
      "cell_type": "markdown",
      "source": [
        "# Evaluation\n",
        "\n",
        "In this section, we present the conducted experiments on the proposed solutions to the FEM algorithm. We then compare the obtained results and provide some discussions."
      ],
      "metadata": {
        "id": "Wfxevpkg8r-H"
      }
    },
    {
      "cell_type": "markdown",
      "source": [
        "## Setup\n",
        "\n",
        "<!-- https://stackoverflow.com/questions/9985912/how-do-i-choose-grid-and-block-dimensions-for-cuda-kernels\n",
        "\n",
        "https://www.nvidia.com/content/gtc-2010/pdfs/2238_gtc2010.pdf -->"
      ],
      "metadata": {
        "id": "0fw_j804W7fu"
      }
    },
    {
      "cell_type": "code",
      "source": [
        "%%capture\n",
        "import os\n",
        "import json\n",
        "from google.colab import drive\n",
        "\n",
        "drive.mount('/content/drive')\n",
        "proj_dir = os.path.join('/', 'content', 'drive', 'MyDrive')\n",
        "proj_dir = os.path.join(proj_dir, 'Colab Notebooks', 'tra105')\n",
        "proj_dir"
      ],
      "metadata": {
        "id": "c2-u0_k00Kam",
        "colab": {
          "base_uri": "https://localhost:8080/",
          "height": 381
        },
        "outputId": "3434d95b-b76e-40f4-8a4a-208d31b66556"
      },
      "execution_count": null,
      "outputs": [
        {
          "output_type": "error",
          "ename": "MessageError",
          "evalue": "ignored",
          "traceback": [
            "\u001b[0;31m---------------------------------------------------------------------------\u001b[0m",
            "\u001b[0;31mMessageError\u001b[0m                              Traceback (most recent call last)",
            "\u001b[0;32m<ipython-input-14-3a75d67f699e>\u001b[0m in \u001b[0;36m<module>\u001b[0;34m\u001b[0m\n\u001b[1;32m      3\u001b[0m \u001b[0;32mfrom\u001b[0m \u001b[0mgoogle\u001b[0m\u001b[0;34m.\u001b[0m\u001b[0mcolab\u001b[0m \u001b[0;32mimport\u001b[0m \u001b[0mdrive\u001b[0m\u001b[0;34m\u001b[0m\u001b[0;34m\u001b[0m\u001b[0m\n\u001b[1;32m      4\u001b[0m \u001b[0;34m\u001b[0m\u001b[0m\n\u001b[0;32m----> 5\u001b[0;31m \u001b[0mdrive\u001b[0m\u001b[0;34m.\u001b[0m\u001b[0mmount\u001b[0m\u001b[0;34m(\u001b[0m\u001b[0;34m'/content/drive'\u001b[0m\u001b[0;34m)\u001b[0m\u001b[0;34m\u001b[0m\u001b[0;34m\u001b[0m\u001b[0m\n\u001b[0m\u001b[1;32m      6\u001b[0m \u001b[0mproj_dir\u001b[0m \u001b[0;34m=\u001b[0m \u001b[0mos\u001b[0m\u001b[0;34m.\u001b[0m\u001b[0mpath\u001b[0m\u001b[0;34m.\u001b[0m\u001b[0mjoin\u001b[0m\u001b[0;34m(\u001b[0m\u001b[0;34m'/'\u001b[0m\u001b[0;34m,\u001b[0m \u001b[0;34m'content'\u001b[0m\u001b[0;34m,\u001b[0m \u001b[0;34m'drive'\u001b[0m\u001b[0;34m,\u001b[0m \u001b[0;34m'MyDrive'\u001b[0m\u001b[0;34m)\u001b[0m\u001b[0;34m\u001b[0m\u001b[0;34m\u001b[0m\u001b[0m\n\u001b[1;32m      7\u001b[0m \u001b[0mproj_dir\u001b[0m \u001b[0;34m=\u001b[0m \u001b[0mos\u001b[0m\u001b[0;34m.\u001b[0m\u001b[0mpath\u001b[0m\u001b[0;34m.\u001b[0m\u001b[0mjoin\u001b[0m\u001b[0;34m(\u001b[0m\u001b[0mproj_dir\u001b[0m\u001b[0;34m,\u001b[0m \u001b[0;34m'Colab Notebooks'\u001b[0m\u001b[0;34m,\u001b[0m \u001b[0;34m'tra105'\u001b[0m\u001b[0;34m)\u001b[0m\u001b[0;34m\u001b[0m\u001b[0;34m\u001b[0m\u001b[0m\n",
            "\u001b[0;32m/usr/local/lib/python3.8/dist-packages/google/colab/drive.py\u001b[0m in \u001b[0;36mmount\u001b[0;34m(mountpoint, force_remount, timeout_ms, readonly)\u001b[0m\n\u001b[1;32m     98\u001b[0m \u001b[0;32mdef\u001b[0m \u001b[0mmount\u001b[0m\u001b[0;34m(\u001b[0m\u001b[0mmountpoint\u001b[0m\u001b[0;34m,\u001b[0m \u001b[0mforce_remount\u001b[0m\u001b[0;34m=\u001b[0m\u001b[0;32mFalse\u001b[0m\u001b[0;34m,\u001b[0m \u001b[0mtimeout_ms\u001b[0m\u001b[0;34m=\u001b[0m\u001b[0;36m120000\u001b[0m\u001b[0;34m,\u001b[0m \u001b[0mreadonly\u001b[0m\u001b[0;34m=\u001b[0m\u001b[0;32mFalse\u001b[0m\u001b[0;34m)\u001b[0m\u001b[0;34m:\u001b[0m\u001b[0;34m\u001b[0m\u001b[0;34m\u001b[0m\u001b[0m\n\u001b[1;32m     99\u001b[0m   \u001b[0;34m\"\"\"Mount your Google Drive at the specified mountpoint path.\"\"\"\u001b[0m\u001b[0;34m\u001b[0m\u001b[0;34m\u001b[0m\u001b[0m\n\u001b[0;32m--> 100\u001b[0;31m   return _mount(\n\u001b[0m\u001b[1;32m    101\u001b[0m       \u001b[0mmountpoint\u001b[0m\u001b[0;34m,\u001b[0m\u001b[0;34m\u001b[0m\u001b[0;34m\u001b[0m\u001b[0m\n\u001b[1;32m    102\u001b[0m       \u001b[0mforce_remount\u001b[0m\u001b[0;34m=\u001b[0m\u001b[0mforce_remount\u001b[0m\u001b[0;34m,\u001b[0m\u001b[0;34m\u001b[0m\u001b[0;34m\u001b[0m\u001b[0m\n",
            "\u001b[0;32m/usr/local/lib/python3.8/dist-packages/google/colab/drive.py\u001b[0m in \u001b[0;36m_mount\u001b[0;34m(mountpoint, force_remount, timeout_ms, ephemeral, readonly)\u001b[0m\n\u001b[1;32m    121\u001b[0m       'TBE_EPHEM_CREDS_ADDR'] if ephemeral else _os.environ['TBE_CREDS_ADDR']\n\u001b[1;32m    122\u001b[0m   \u001b[0;32mif\u001b[0m \u001b[0mephemeral\u001b[0m\u001b[0;34m:\u001b[0m\u001b[0;34m\u001b[0m\u001b[0;34m\u001b[0m\u001b[0m\n\u001b[0;32m--> 123\u001b[0;31m     _message.blocking_request(\n\u001b[0m\u001b[1;32m    124\u001b[0m         'request_auth', request={'authType': 'dfs_ephemeral'}, timeout_sec=None)\n\u001b[1;32m    125\u001b[0m \u001b[0;34m\u001b[0m\u001b[0m\n",
            "\u001b[0;32m/usr/local/lib/python3.8/dist-packages/google/colab/_message.py\u001b[0m in \u001b[0;36mblocking_request\u001b[0;34m(request_type, request, timeout_sec, parent)\u001b[0m\n\u001b[1;32m    169\u001b[0m   request_id = send_request(\n\u001b[1;32m    170\u001b[0m       request_type, request, parent=parent, expect_reply=True)\n\u001b[0;32m--> 171\u001b[0;31m   \u001b[0;32mreturn\u001b[0m \u001b[0mread_reply_from_input\u001b[0m\u001b[0;34m(\u001b[0m\u001b[0mrequest_id\u001b[0m\u001b[0;34m,\u001b[0m \u001b[0mtimeout_sec\u001b[0m\u001b[0;34m)\u001b[0m\u001b[0;34m\u001b[0m\u001b[0;34m\u001b[0m\u001b[0m\n\u001b[0m",
            "\u001b[0;32m/usr/local/lib/python3.8/dist-packages/google/colab/_message.py\u001b[0m in \u001b[0;36mread_reply_from_input\u001b[0;34m(message_id, timeout_sec)\u001b[0m\n\u001b[1;32m    100\u001b[0m         reply.get('colab_msg_id') == message_id):\n\u001b[1;32m    101\u001b[0m       \u001b[0;32mif\u001b[0m \u001b[0;34m'error'\u001b[0m \u001b[0;32min\u001b[0m \u001b[0mreply\u001b[0m\u001b[0;34m:\u001b[0m\u001b[0;34m\u001b[0m\u001b[0;34m\u001b[0m\u001b[0m\n\u001b[0;32m--> 102\u001b[0;31m         \u001b[0;32mraise\u001b[0m \u001b[0mMessageError\u001b[0m\u001b[0;34m(\u001b[0m\u001b[0mreply\u001b[0m\u001b[0;34m[\u001b[0m\u001b[0;34m'error'\u001b[0m\u001b[0;34m]\u001b[0m\u001b[0;34m)\u001b[0m\u001b[0;34m\u001b[0m\u001b[0;34m\u001b[0m\u001b[0m\n\u001b[0m\u001b[1;32m    103\u001b[0m       \u001b[0;32mreturn\u001b[0m \u001b[0mreply\u001b[0m\u001b[0;34m.\u001b[0m\u001b[0mget\u001b[0m\u001b[0;34m(\u001b[0m\u001b[0;34m'data'\u001b[0m\u001b[0;34m,\u001b[0m \u001b[0;32mNone\u001b[0m\u001b[0;34m)\u001b[0m\u001b[0;34m\u001b[0m\u001b[0;34m\u001b[0m\u001b[0m\n\u001b[1;32m    104\u001b[0m \u001b[0;34m\u001b[0m\u001b[0m\n",
            "\u001b[0;31mMessageError\u001b[0m: Error: credential propagation was unsuccessful"
          ]
        }
      ]
    },
    {
      "cell_type": "code",
      "source": [
        "from google.colab import drive\n",
        "drive.mount('/content/drive', force_remount=True)"
      ],
      "metadata": {
        "id": "cS7elhJT7j1O"
      },
      "execution_count": null,
      "outputs": []
    },
    {
      "cell_type": "code",
      "source": [
        "import os\n",
        "import json\n",
        "\n",
        "proj_dir = os.path.join('/', 'content', 'drive', 'MyDrive')\n",
        "proj_dir = os.path.join(proj_dir, 'Colab Notebooks', 'tra105')"
      ],
      "metadata": {
        "id": "UJLRmb_TFp5k"
      },
      "execution_count": null,
      "outputs": []
    },
    {
      "cell_type": "code",
      "source": [
        "%%capture\n",
        "!mkdir -p data\n",
        "!gdown --fuzzy https://drive.google.com/file/d/1_aknkiKgxuiK8RAB1RGGJ02ZvW9LfKat/view?usp=share_link -O data/randgrid_n3000.npz\n",
        "!gdown --fuzzy https://drive.google.com/file/d/1_sipbQHWOagsYDJUgff5-ijZt-OF0KRC/view?usp=share_link -O data/randgrid_n30000.npz\n",
        "!gdown --fuzzy https://drive.google.com/file/d/1Rh6QH1nt3eEp6h6lnfzlZKID1h9Lx8ez/view?usp=share_link -O data/randgrid_n300000.npz\n",
        "!gdown --fuzzy https://drive.google.com/file/d/16OO8DPnKH7v7VqHJcmRvkvETlodRQrHt/view?usp=sharing -O data/randgrid_n3000000.npz\n",
        "!gdown --fuzzy https://drive.google.com/file/d/1qmoLwlGw32bJVwrTCV4d8a_ucP3qRoCT/view?usp=sharing -O data/randgrid_n5000000.npz\n",
        "!gdown --fuzzy https://drive.google.com/file/d/1cpR1jW-nQ0f1O2XRmc1cvLEdSQRMLVz5/view?usp=share_link -O data/randgrid_n30000000.npz"
      ],
      "metadata": {
        "id": "Y3ycYAebQ0Qt"
      },
      "execution_count": 30,
      "outputs": []
    },
    {
      "cell_type": "markdown",
      "source": [
        "## CPU Specifications"
      ],
      "metadata": {
        "id": "hFmB8aL4H7_N"
      }
    },
    {
      "cell_type": "code",
      "source": [
        "!lscpu"
      ],
      "metadata": {
        "id": "gYDJh08FH-gf",
        "colab": {
          "base_uri": "https://localhost:8080/"
        },
        "outputId": "de2a06ca-2649-437e-c75f-0d4c647720e1"
      },
      "execution_count": 31,
      "outputs": [
        {
          "output_type": "stream",
          "name": "stdout",
          "text": [
            "Architecture:                    x86_64\n",
            "CPU op-mode(s):                  32-bit, 64-bit\n",
            "Byte Order:                      Little Endian\n",
            "Address sizes:                   46 bits physical, 48 bits virtual\n",
            "CPU(s):                          2\n",
            "On-line CPU(s) list:             0,1\n",
            "Thread(s) per core:              2\n",
            "Core(s) per socket:              1\n",
            "Socket(s):                       1\n",
            "NUMA node(s):                    1\n",
            "Vendor ID:                       GenuineIntel\n",
            "CPU family:                      6\n",
            "Model:                           79\n",
            "Model name:                      Intel(R) Xeon(R) CPU @ 2.20GHz\n",
            "Stepping:                        0\n",
            "CPU MHz:                         2199.998\n",
            "BogoMIPS:                        4399.99\n",
            "Hypervisor vendor:               KVM\n",
            "Virtualization type:             full\n",
            "L1d cache:                       32 KiB\n",
            "L1i cache:                       32 KiB\n",
            "L2 cache:                        256 KiB\n",
            "L3 cache:                        55 MiB\n",
            "NUMA node0 CPU(s):               0,1\n",
            "Vulnerability Itlb multihit:     Not affected\n",
            "Vulnerability L1tf:              Mitigation; PTE Inversion\n",
            "Vulnerability Mds:               Vulnerable; SMT Host state unknown\n",
            "Vulnerability Meltdown:          Vulnerable\n",
            "Vulnerability Mmio stale data:   Vulnerable\n",
            "Vulnerability Retbleed:          Vulnerable\n",
            "Vulnerability Spec store bypass: Vulnerable\n",
            "Vulnerability Spectre v1:        Vulnerable: __user pointer sanitization and use\n",
            "                                 rcopy barriers only; no swapgs barriers\n",
            "Vulnerability Spectre v2:        Vulnerable, IBPB: disabled, STIBP: disabled, PB\n",
            "                                 RSB-eIBRS: Not affected\n",
            "Vulnerability Srbds:             Not affected\n",
            "Vulnerability Tsx async abort:   Vulnerable\n",
            "Flags:                           fpu vme de pse tsc msr pae mce cx8 apic sep mtr\n",
            "                                 r pge mca cmov pat pse36 clflush mmx fxsr sse s\n",
            "                                 se2 ss ht syscall nx pdpe1gb rdtscp lm constant\n",
            "                                 _tsc rep_good nopl xtopology nonstop_tsc cpuid \n",
            "                                 tsc_known_freq pni pclmulqdq ssse3 fma cx16 pci\n",
            "                                 d sse4_1 sse4_2 x2apic movbe popcnt aes xsave a\n",
            "                                 vx f16c rdrand hypervisor lahf_lm abm 3dnowpref\n",
            "                                 etch invpcid_single ssbd ibrs ibpb stibp fsgsba\n",
            "                                 se tsc_adjust bmi1 hle avx2 smep bmi2 erms invp\n",
            "                                 cid rtm rdseed adx smap xsaveopt arat md_clear \n",
            "                                 arch_capabilities\n"
          ]
        }
      ]
    },
    {
      "cell_type": "markdown",
      "source": [
        "## GPU Specifications\n",
        "\n",
        "<!-- Notes:\n",
        "\n",
        "* Threads per block must be a multiple of the warp size and must not exceed the max value\n",
        "* \"Fewer threads = more registers per thread\" -->"
      ],
      "metadata": {
        "id": "QSHERzSoYOsD"
      }
    },
    {
      "cell_type": "code",
      "source": [
        "!nvidia-smi"
      ],
      "metadata": {
        "id": "hy7xERIeYR82",
        "colab": {
          "base_uri": "https://localhost:8080/"
        },
        "outputId": "24427789-06d4-48b7-fd14-90724cf39a4a"
      },
      "execution_count": 32,
      "outputs": [
        {
          "output_type": "stream",
          "name": "stdout",
          "text": [
            "Wed Mar  1 10:36:51 2023       \n",
            "+-----------------------------------------------------------------------------+\n",
            "| NVIDIA-SMI 525.85.12    Driver Version: 525.85.12    CUDA Version: 12.0     |\n",
            "|-------------------------------+----------------------+----------------------+\n",
            "| GPU  Name        Persistence-M| Bus-Id        Disp.A | Volatile Uncorr. ECC |\n",
            "| Fan  Temp  Perf  Pwr:Usage/Cap|         Memory-Usage | GPU-Util  Compute M. |\n",
            "|                               |                      |               MIG M. |\n",
            "|===============================+======================+======================|\n",
            "|   0  Tesla T4            Off  | 00000000:00:04.0 Off |                    0 |\n",
            "| N/A   52C    P0    28W /  70W |      0MiB / 15360MiB |      0%      Default |\n",
            "|                               |                      |                  N/A |\n",
            "+-------------------------------+----------------------+----------------------+\n",
            "                                                                               \n",
            "+-----------------------------------------------------------------------------+\n",
            "| Processes:                                                                  |\n",
            "|  GPU   GI   CI        PID   Type   Process name                  GPU Memory |\n",
            "|        ID   ID                                                   Usage      |\n",
            "|=============================================================================|\n",
            "|  No running processes found                                                 |\n",
            "+-----------------------------------------------------------------------------+\n"
          ]
        }
      ]
    },
    {
      "cell_type": "code",
      "source": [
        "with cp.cuda.Device(0) as device:\n",
        "    for k, attribute in device.attributes.items():\n",
        "        print(f'{k}: {attribute}')\n",
        "    print('-' * 80)\n",
        "    print('MaxThreadsPerBlock:', device.attributes['MaxThreadsPerBlock'])\n",
        "    print('MaxBlockDimX:', device.attributes['MaxBlockDimX'])\n",
        "    print('MaxGridDimX:', device.attributes['MaxGridDimX'])\n",
        "    print('MaxRegistersPerBlock:', device.attributes['MaxRegistersPerBlock'])\n",
        "    print('MaxSharedMemoryPerBlock:', device.attributes['MaxSharedMemoryPerBlock'])\n",
        "    print('MaxSharedMemoryPerMultiprocessor:', device.attributes['MaxSharedMemoryPerMultiprocessor'])"
      ],
      "metadata": {
        "id": "GU4mrPCzqrZ7",
        "colab": {
          "base_uri": "https://localhost:8080/"
        },
        "outputId": "618ea003-424c-4824-c7e4-1f965cb7cf1e"
      },
      "execution_count": 36,
      "outputs": [
        {
          "output_type": "stream",
          "name": "stdout",
          "text": [
            "AsyncEngineCount: 3\n",
            "CanFlushRemoteWrites: 0\n",
            "CanMapHostMemory: 1\n",
            "CanUseHostPointerForRegisteredMem: 1\n",
            "ClockRate: 1590000\n",
            "ComputeMode: 0\n",
            "ComputePreemptionSupported: 1\n",
            "ConcurrentKernels: 1\n",
            "ConcurrentManagedAccess: 1\n",
            "CooperativeLaunch: 1\n",
            "CooperativeMultiDeviceLaunch: 1\n",
            "DirectManagedMemAccessFromHost: 0\n",
            "EccEnabled: 1\n",
            "GPUDirectRDMAFlushWritesOptions: 1\n",
            "GPUDirectRDMASupported: 1\n",
            "GPUDirectRDMAWritesOrdering: 0\n",
            "GlobalL1CacheSupported: 1\n",
            "GlobalMemoryBusWidth: 256\n",
            "GpuOverlap: 1\n",
            "HostNativeAtomicSupported: 0\n",
            "HostRegisterReadOnlySupported: 1\n",
            "HostRegisterSupported: 1\n",
            "Integrated: 0\n",
            "IsMultiGpuBoard: 0\n",
            "KernelExecTimeout: 0\n",
            "L2CacheSize: 4194304\n",
            "LocalL1CacheSupported: 1\n",
            "ManagedMemory: 1\n",
            "MaxBlockDimX: 1024\n",
            "MaxBlockDimY: 1024\n",
            "MaxBlockDimZ: 64\n",
            "MaxBlocksPerMultiprocessor: 16\n",
            "MaxGridDimX: 2147483647\n",
            "MaxGridDimY: 65535\n",
            "MaxGridDimZ: 65535\n",
            "MaxPitch: 2147483647\n",
            "MaxRegistersPerBlock: 65536\n",
            "MaxRegistersPerMultiprocessor: 65536\n",
            "MaxSharedMemoryPerBlock: 49152\n",
            "MaxSharedMemoryPerBlockOptin: 65536\n",
            "MaxSharedMemoryPerMultiprocessor: 65536\n",
            "MaxSurface1DLayeredLayers: 2048\n",
            "MaxSurface1DLayeredWidth: 32768\n",
            "MaxSurface1DWidth: 32768\n",
            "MaxSurface2DHeight: 65536\n",
            "MaxSurface2DLayeredHeight: 32768\n",
            "MaxSurface2DLayeredLayers: 2048\n",
            "MaxSurface2DLayeredWidth: 32768\n",
            "MaxSurface2DWidth: 131072\n",
            "MaxSurface3DDepth: 16384\n",
            "MaxSurface3DHeight: 16384\n",
            "MaxSurface3DWidth: 16384\n",
            "MaxSurfaceCubemapLayeredLayers: 2046\n",
            "MaxSurfaceCubemapLayeredWidth: 32768\n",
            "MaxSurfaceCubemapWidth: 32768\n",
            "MaxTexture1DLayeredLayers: 2048\n",
            "MaxTexture1DLayeredWidth: 32768\n",
            "MaxTexture1DLinearWidth: 268435456\n",
            "MaxTexture1DMipmappedWidth: 32768\n",
            "MaxTexture1DWidth: 131072\n",
            "MaxTexture2DGatherHeight: 32768\n",
            "MaxTexture2DGatherWidth: 32768\n",
            "MaxTexture2DHeight: 65536\n",
            "MaxTexture2DLayeredHeight: 32768\n",
            "MaxTexture2DLayeredLayers: 2048\n",
            "MaxTexture2DLayeredWidth: 32768\n",
            "MaxTexture2DLinearHeight: 65000\n",
            "MaxTexture2DLinearPitch: 2097120\n",
            "MaxTexture2DLinearWidth: 131072\n",
            "MaxTexture2DMipmappedHeight: 32768\n",
            "MaxTexture2DMipmappedWidth: 32768\n",
            "MaxTexture2DWidth: 131072\n",
            "MaxTexture3DDepth: 16384\n",
            "MaxTexture3DDepthAlt: 32768\n",
            "MaxTexture3DHeight: 16384\n",
            "MaxTexture3DHeightAlt: 8192\n",
            "MaxTexture3DWidth: 16384\n",
            "MaxTexture3DWidthAlt: 8192\n",
            "MaxTextureCubemapLayeredLayers: 2046\n",
            "MaxTextureCubemapLayeredWidth: 32768\n",
            "MaxTextureCubemapWidth: 32768\n",
            "MaxThreadsPerBlock: 1024\n",
            "MaxThreadsPerMultiProcessor: 1024\n",
            "MaxTimelineSemaphoreInteropSupported: 1\n",
            "MemoryClockRate: 5001000\n",
            "MemoryPoolSupportedHandleTypes: 1\n",
            "MemoryPoolsSupported: 1\n",
            "MultiGpuBoardGroupID: 0\n",
            "MultiProcessorCount: 40\n",
            "PageableMemoryAccess: 0\n",
            "PageableMemoryAccessUsesHostPageTables: 0\n",
            "PciBusId: 0\n",
            "PciDeviceId: 4\n",
            "PciDomainId: 0\n",
            "Reserved92: 0\n",
            "Reserved93: 0\n",
            "Reserved94: 0\n",
            "ReservedSharedMemoryPerBlock: 0\n",
            "SingleToDoublePrecisionPerfRatio: 32\n",
            "SparseCudaArraySupported: 1\n",
            "StreamPrioritiesSupported: 1\n",
            "SurfaceAlignment: 512\n",
            "TccDriver: 0\n",
            "TextureAlignment: 512\n",
            "TexturePitchAlignment: 32\n",
            "TotalConstantMemory: 65536\n",
            "UnifiedAddressing: 1\n",
            "WarpSize: 32\n",
            "--------------------------------------------------------------------------------\n",
            "MaxThreadsPerBlock: 1024\n",
            "MaxBlockDimX: 1024\n",
            "MaxGridDimX: 2147483647\n",
            "MaxRegistersPerBlock: 65536\n",
            "MaxSharedMemoryPerBlock: 49152\n",
            "MaxSharedMemoryPerMultiprocessor: 65536\n"
          ]
        }
      ]
    },
    {
      "cell_type": "markdown",
      "source": [
        "## Evaluation Tests\n",
        "\n",
        "We begin be defining two wrapper functions."
      ],
      "metadata": {
        "id": "Dtx9oN6OHzvh"
      }
    },
    {
      "cell_type": "code",
      "source": [
        "def solve_fem_problem_cpu(a, weak_form, dh, dofs_glob, batch_sz=-1,\n",
        "                          solver=scipy.sparse.linalg.minres):\n",
        "    K, f = batched_k_assembly_cpu(a, weak_form, dh, batch_sz=batch_sz)\n",
        "    a[dofs_glob['free']], _ = run_solver(K, f, a, dofs_glob, solver=solver)\n",
        "    return K, f, a\n",
        "\n",
        "def solve_fem_problem_gpu(a, weak_form, dh, dofs_glob, batch_sz=-1,\n",
        "                          threadsperblock=1024, batched=False,\n",
        "                          solver=cpx.scipy.sparse.linalg.minres):\n",
        "    if batched:\n",
        "        K, f = batched_k_assembly_gpu(a, weak_form, dh, batch_sz=batch_sz)\n",
        "    else:\n",
        "        K, f = naive_k_assembly_gpu(a, weak_form, dh, batch_sz=batch_sz,\n",
        "                                    threadsperblock=threadsperblock)\n",
        "    a_gpu, _ = run_solver(K, f, cp.asarray(a), dofs_glob, solver=solver)\n",
        "    a[dofs_glob['free']] = a_gpu.get()\n",
        "    return K, f, a"
      ],
      "metadata": {
        "id": "hAVC5TXorNgI"
      },
      "execution_count": 37,
      "outputs": []
    },
    {
      "cell_type": "markdown",
      "source": [
        "The tests have been conducted over precomputed grids of up to 5 million nodes. The measurements were collected on different devices, namely an Intel 8-cores Xeon processor, an Nvidia Tesla T4 and an Nvidia RTX 2080 Ti.\n",
        "\n",
        "For the custom CUDA kernel implementation, we further explore different threads per block when launching the kernel. The amount of blocks launched is automatically adjusted accordingly.\n",
        "\n",
        "Additionally, the batch size is selected to be 8196 for the CPU solutions, and $8196\\cdot16$ for the GPU versions. In fact, we must break the computation into different batches, as the entire grid information would not fit into the GPU memory.\n",
        "\n",
        "NOTE: The above results may be slightly different from the one run below. The following evaluation will take a considerable amount of time to complete. Because of that, in the following section the pre-run results are loaded and plotted."
      ],
      "metadata": {
        "id": "jKy0R1WmAxhe"
      }
    },
    {
      "cell_type": "code",
      "source": [
        "import pandas as pd\n",
        "\n",
        "n_threads = [2**i for i in range(6, 11)]\n",
        "n_runs = 10\n",
        "cols = ['Device', 'Batched/Custom Kernel', 'Num. Threads', 'Num. Runs',\n",
        "        'Time [s]', 'Avg. Time [s]', 'Num. Cells', 'Num. Nodes', 'K length',\n",
        "        ]\n",
        "# table = pd.read_csv(os.path.join(proj_dir, 'evaluation_results.csv'))\n",
        "table_data = []\n",
        "\n",
        "for n_nodes in [3 * 10**i for i in range(2, 7)] + [int(5e6), int(3e7)]:\n",
        "    print(f'Generating random Grid with {n_nodes} nodes.')\n",
        "    filename = os.path.join('data', f'randgrid_n{int(n_nodes)}.npz')\n",
        "    prob = generate_rand_fem_problem(filename=filename)\n",
        "    a, weak_form, dh, dofs_glob = prob\n",
        "    # ==========================================================================\n",
        "    # Evaluate batched version on CPU\n",
        "    # ==========================================================================\n",
        "    n_cells = len(dh.grid.cells)\n",
        "    n_nodes = len(dh.grid.nodes)\n",
        "    K_dim = dh.get_ndofs_total()\n",
        "    n_th = 8\n",
        "    fem = lambda: solve_fem_problem_cpu(a.copy(), weak_form, dh, dofs_glob, batch_sz=8196)\n",
        "    t = timeit.timeit(stmt=fem, number=n_runs)\n",
        "    print(f'[CPU] Processed Num Nodes:{n_nodes}, Num.Threads:{n_th} -> Avg.Time: {t / n_runs:.4f} s')\n",
        "    table_data.append(('CPU', 'Batched', n_th, n_runs, round(t, 2),\n",
        "                       round(t / n_runs, 2), n_cells, n_nodes, K_dim))\n",
        "    # Save temporary results\n",
        "    # table = pd.concat([table, pd.DataFrame(table_data, columns=cols)])\n",
        "    # table.to_csv('evaluation_results.csv')\n",
        "    # table.to_csv(os.path.join(proj_dir, 'evaluation_results.csv'))\n",
        "    # ==========================================================================\n",
        "    # Evaluate batched version on GPU\n",
        "    # ==========================================================================\n",
        "    n_th = -1\n",
        "    mempool = cp.get_default_memory_pool()\n",
        "    mempool.free_all_blocks()\n",
        "    fem = lambda: solve_fem_problem_gpu(a.copy(), weak_form, dh, dofs_glob, batched=True, batch_sz=8196*16)\n",
        "    t = timeit.timeit(stmt=fem, number=n_runs)\n",
        "    print(f'[GPU - Batched] Processed Num Nodes:{n_nodes}, Num.Threads:{n_th} -> Avg.Time: {t / n_runs:.4f} s')\n",
        "    table_data.append(('GPU', 'Batched', n_th, n_runs, round(t, 2),\n",
        "                       round(t / n_runs, 2), n_cells, n_nodes, K_dim))\n",
        "    # Save temporary results\n",
        "    # table = pd.concat([table, pd.DataFrame(table_data, columns=cols)])\n",
        "    # table.to_csv('evaluation_results.csv')\n",
        "    # table.to_csv(os.path.join(proj_dir, 'evaluation_results.csv'))\n",
        "    # ==========================================================================\n",
        "    # Evaluate custom CUDA kernel\n",
        "    # ==========================================================================\n",
        "    for n_th in n_threads:\n",
        "        mempool = cp.get_default_memory_pool()\n",
        "        mempool.free_all_blocks()\n",
        "        fem = lambda: solve_fem_problem_gpu(a.copy(), weak_form, dh, dofs_glob, threadsperblock=n_th, batch_sz=8196*16)\n",
        "        t = timeit.timeit(stmt=fem, number=n_runs)\n",
        "        print(f'[GPU - Custom Kernel] Processed Num Nodes:{n_nodes}, Num.Threads:{n_th} -> Avg.Time: {t / n_runs:.4f} s')\n",
        "        table_data.append(('GPU', 'Custom Kernel', n_th, n_runs, round(t, 2),\n",
        "                           round(t / n_runs, 2), n_cells, n_nodes, K_dim))\n",
        "        # Save temporary results\n",
        "        # table = pd.concat([table, pd.DataFrame(table_data, columns=cols)])\n",
        "        # table.to_csv('evaluation_results.csv')\n",
        "        # table.to_csv(os.path.join(proj_dir, 'evaluation_results.csv'))\n",
        "table = pd.DataFrame(table_data, columns=cols)\n",
        "table"
      ],
      "metadata": {
        "id": "-fVgmlaD88jd"
      },
      "execution_count": null,
      "outputs": []
    },
    {
      "cell_type": "markdown",
      "source": [
        "## Plotting\n",
        "\n",
        "We now show a series of graphs to visualize our results. We start from the normalized execution time of the different utilized devices. The normalization is carried out by normalizing according to the slowest implementation."
      ],
      "metadata": {
        "id": "zsfdG4InZZ7a"
      }
    },
    {
      "cell_type": "code",
      "source": [
        "import pandas as pd\n",
        "\n",
        "table = pd.read_csv(os.path.join(repository, 'data', 'evaluation_results.csv'))\n",
        "table"
      ],
      "metadata": {
        "id": "cfsw0qV_qeBr"
      },
      "execution_count": null,
      "outputs": []
    },
    {
      "cell_type": "code",
      "source": [
        "table['Normalized Execution Time'] = table['Avg. Time [s]']\n",
        "\n",
        "for n_cells in table['Num. Cells'].unique():\n",
        "    selected_cells = table['Num. Cells'] == n_cells\n",
        "    max_t = table.loc[selected_cells, 'Avg. Time [s]'].max()\n",
        "    table.loc[selected_cells, 'Normalized Execution Time'] /= max_t"
      ],
      "metadata": {
        "id": "z5QmhaUkbbFo"
      },
      "execution_count": null,
      "outputs": []
    },
    {
      "cell_type": "code",
      "source": [
        "import matplotlib.pyplot as plt\n",
        "import seaborn as sns\n",
        "from matplotlib.pyplot import figure\n",
        "\n",
        "# figure(num=None, figsize=(10, 9), dpi=80, facecolor='w', edgecolor='r')\n",
        "ax = sns.barplot(data=table, y='Num. Nodes', x='Normalized Execution Time',\n",
        "                 hue='Device', orient='h')\n",
        "sns.move_legend(ax, 'upper left', bbox_to_anchor=(1, 1))\n",
        "for container in ax.containers:\n",
        "    ax.bar_label(container, padding=10)\n",
        "plt.grid(axis='x', alpha=0.5)\n",
        "plt.title('Normalized execution time for the different devices')\n",
        "plt.show()\n",
        "\n",
        "table_gpu = table[table['Device'].isin(['Tesla T4', 'GeForce RTX 2080 Ti'])].copy()\n",
        "# table_gpu = table[table['Device'] == 'GeForce RTX 2080 Ti'].copy()\n",
        "table_cpu = table[table['Device'] == 'Xeon'].copy()\n",
        "\n",
        "cpu_t = table_cpu['Avg. Time [s]']\n",
        "gpu_t = table_gpu['Avg. Time [s]']\n",
        "print(f'Average speedup CPU vs. GPU: {cpu_t.mean() / gpu_t.mean():.2f}x')\n",
        "# print(f'Highest speedup CPU vs. GPU: {cpu_t.max() / gpu_t.max():.2f}x')"
      ],
      "metadata": {
        "id": "rqMEwaZoqKIp",
        "colab": {
          "base_uri": "https://localhost:8080/",
          "height": 312
        },
        "outputId": "274e17de-300d-4c70-db21-12e20e0744f7"
      },
      "execution_count": null,
      "outputs": [
        {
          "output_type": "display_data",
          "data": {
            "text/plain": [
              "<Figure size 432x288 with 1 Axes>"
            ],
            "image/png": "[encoded data removed]"
          },
          "metadata": {
            "needs_background": "light"
          }
        },
        {
          "output_type": "stream",
          "name": "stdout",
          "text": [
            "Average speedup CPU vs. GPU: 8.18x\n"
          ]
        }
      ]
    },
    {
      "cell_type": "markdown",
      "source": [
        "As expected, the GPU implementation is clearly superior in terms of performance, being as low as 3% of the CPU time and $8.2\\times$ faster than CPU on average, with a peak of $27.2\\times$.\n",
        "\n",
        "If we now investigate how the amount of threads per block influences the performance of the custom kernel, we see a negligible difference, as follows:"
      ],
      "metadata": {
        "id": "29wmfyVvCs1V"
      }
    },
    {
      "cell_type": "code",
      "source": [
        "# figure(num=None, figsize=(10, 9), dpi=80, facecolor='w', edgecolor='r')\n",
        "table_gpu = table[table['Device'].isin(['Tesla T4', 'GeForce RTX 2080 Ti'])].copy()\n",
        "table_gpu = table_gpu[table_gpu['Batched/Custom Kernel'] == 'Custom Kernel']\n",
        "\n",
        "ax = sns.barplot(data=table_gpu, y='Num. Nodes', x='Avg. Time [s]',\n",
        "                 hue='Num. Threads', orient='h')\n",
        "sns.move_legend(ax, 'upper left', bbox_to_anchor=(1, 1))\n",
        "for container in ax.containers:\n",
        "    ax.bar_label(container, padding=10)\n",
        "plt.grid(axis='x', alpha=0.5)\n",
        "plt.title('Execution time of the custom CUDA kernel')\n",
        "plt.show()"
      ],
      "metadata": {
        "colab": {
          "base_uri": "https://localhost:8080/",
          "height": 295
        },
        "id": "zCYUC_2jiN67",
        "outputId": "4519141f-eab2-4003-c31a-39cbcce4ccfa"
      },
      "execution_count": null,
      "outputs": [
        {
          "output_type": "display_data",
          "data": {
            "text/plain": [
              "<Figure size 432x288 with 1 Axes>"
            ],
            "image/png": "[encoded data removed]"
          },
          "metadata": {
            "needs_background": "light"
          }
        }
      ]
    },
    {
      "cell_type": "markdown",
      "source": [
        "We can now focus on comparing the two proposed GPU versions."
      ],
      "metadata": {
        "id": "Gi3kMTLhJG_A"
      }
    },
    {
      "cell_type": "code",
      "source": [
        "table_gpu = table[table['Device'].isin(['Tesla T4', 'GeForce RTX 2080 Ti'])].copy()\n",
        "table_gpu['Normalized Execution Time'] = table_gpu['Avg. Time [s]']\n",
        "\n",
        "for n_cells in table_gpu['Num. Cells'].unique():\n",
        "    selected_cells = table_gpu['Num. Cells'] == n_cells\n",
        "    max_t = table_gpu.loc[selected_cells, 'Avg. Time [s]'].max()\n",
        "    table_gpu.loc[selected_cells, 'Normalized Execution Time'] /= max_t\n",
        "\n",
        "# figure(num=None, figsize=(10, 9), dpi=80, facecolor='w', edgecolor='r')\n",
        "ax = sns.barplot(data=table_gpu, y='Num. Nodes', x='Normalized Execution Time',\n",
        "                 hue='Batched/Custom Kernel', orient='h')\n",
        "sns.move_legend(ax, 'upper left', bbox_to_anchor=(1, 1))\n",
        "for container in ax.containers:\n",
        "    ax.bar_label(container, padding=10)\n",
        "plt.grid(axis='x', alpha=0.5)\n",
        "plt.title('Batched versus Custom GPU kernels')\n",
        "plt.show()\n",
        "\n",
        "batched_t = table_gpu.loc[table_gpu['Batched/Custom Kernel'] == 'Batched', 'Avg. Time [s]']\n",
        "custom_t = table_gpu.loc[table_gpu['Batched/Custom Kernel'] == 'Custom Kernel', 'Avg. Time [s]']\n",
        "print(f'Average speedup Batched vs. Custom kernel: {custom_t.mean() / batched_t.mean():.2f}x')"
      ],
      "metadata": {
        "id": "coeCaLhH0SDs",
        "colab": {
          "base_uri": "https://localhost:8080/",
          "height": 312
        },
        "outputId": "1cd01669-8ca2-461b-b110-d782ac122523"
      },
      "execution_count": null,
      "outputs": [
        {
          "output_type": "display_data",
          "data": {
            "text/plain": [
              "<Figure size 432x288 with 1 Axes>"
            ],
            "image/png": "[encoded data removed]"
          },
          "metadata": {
            "needs_background": "light"
          }
        },
        {
          "output_type": "stream",
          "name": "stdout",
          "text": [
            "Speedup Batched vs. Custom kernel: 6.56x\n"
          ]
        }
      ]
    },
    {
      "cell_type": "markdown",
      "source": [
        "The batched GPU version is $6.6\\times$ faster on average, and the performance gap increases as the number of points increases. This suggests that the custom kernel implementation suffers from an inefficient memory managment.\n",
        "\n",
        "Finally, we can compare the performance of the two examined GPU devices."
      ],
      "metadata": {
        "id": "zh7mD13QJRou"
      }
    },
    {
      "cell_type": "code",
      "source": [
        "table_gpu = table[table['Device'].isin(['Tesla T4', 'GeForce RTX 2080 Ti'])].copy()\n",
        "table_gpu = table_gpu[table_gpu['Batched/Custom Kernel'] == 'Batched']\n",
        "table_gpu['Normalized Execution Time'] = table_gpu['Avg. Time [s]']\n",
        "\n",
        "for n_cells in table_gpu['Num. Cells'].unique():\n",
        "    selected_cells = table_gpu['Num. Cells'] == n_cells\n",
        "    max_t = table_gpu.loc[selected_cells, 'Avg. Time [s]'].max()\n",
        "    table_gpu.loc[selected_cells, 'Normalized Execution Time'] /= max_t\n",
        "\n",
        "# figure(num=None, figsize=(10, 9), dpi=80, facecolor='w', edgecolor='r')\n",
        "ax = sns.barplot(data=table_gpu, y='Num. Nodes', x='Normalized Execution Time',\n",
        "                 hue='Device', orient='h')\n",
        "sns.move_legend(ax, 'upper left', bbox_to_anchor=(1, 1))\n",
        "for container in ax.containers:\n",
        "    ax.bar_label(container, padding=10)\n",
        "plt.grid(axis='x', alpha=0.5)\n",
        "plt.title('RTX 2080 versus Tesla T4')\n",
        "plt.show()\n",
        "\n",
        "tesla_t = table.loc[table['Device'] == 'Tesla T4', 'Avg. Time [s]']\n",
        "rtx_t = table.loc[table['Device'] == 'GeForce RTX 2080 Ti', 'Avg. Time [s]']\n",
        "print(f'Average speedup T4 vs. RTX: {tesla_t.mean() / rtx_t.mean():.2f}x')"
      ],
      "metadata": {
        "colab": {
          "base_uri": "https://localhost:8080/",
          "height": 312
        },
        "id": "vOP-_UthkULH",
        "outputId": "65a247df-70d6-4a1f-a3eb-309b13f869fb"
      },
      "execution_count": null,
      "outputs": [
        {
          "output_type": "display_data",
          "data": {
            "text/plain": [
              "<Figure size 432x288 with 1 Axes>"
            ],
            "image/png": "[encoded data removed]"
          },
          "metadata": {
            "needs_background": "light"
          }
        },
        {
          "output_type": "stream",
          "name": "stdout",
          "text": [
            "Average speedup T4 vs. RTX: 6.84x\n"
          ]
        }
      ]
    },
    {
      "cell_type": "markdown",
      "source": [
        "The RTX card is $6.8\\times$ faster on average than the T4 card. This might be due to different GPU architecture characteristcs, such as the number of CUDA cores (2944 in the RTX versus 2560 in the T4) and their core clock speed (around 1500MHz in the RTX versus 585MHz in the T4)."
      ],
      "metadata": {
        "id": "x_TBY3h-Tk2e"
      }
    },
    {
      "cell_type": "markdown",
      "source": [
        "# Conclusions and Future Work\n",
        "\n",
        "In this work we proposed, designed and implemented different solutions for accelerating the FEM algorithm computation, to be run both in a multithreaded environment and on a GPU card.\n",
        "In our experiments, we show that the batched implementation is a viable and efficient solution, especially for the GPU case, which allowed us to achieve a top speedup of $28\\times$ over the CPU counterpart.\n",
        "\n",
        "Here is a list of possible future directions that can be explored and analyzed:\n",
        "\n",
        "* More advanced meshes, such as 3D meshes and/or more DoFs per cell\n",
        "* Efficient handling of the COO data and exploring and efficiently leverage DOK format to save space, _i.e._, manual implementation of the reduction phase\n",
        "* More in-depth analysis of the data movement and memory requirements of the algorithm. For example, use of shared memory in the custom kernel might improve its performance. See Numba on [shared memory](https://numba.readthedocs.io/en/stable/cuda/memory.html#shared-memory-and-thread-synchronization), and this [example](https://numba.readthedocs.io/en/stable/cuda/examples.html#cuda-matmul).\n",
        "* More advanced design space exploration of the custom CUDA kernel parameters\n",
        "* Analysis of the convergency rate of the solvers at different tolerance levels"
      ],
      "metadata": {
        "id": "2JImizAQNBI2"
      }
    },
    {
      "cell_type": "markdown",
      "source": [
        "# Appendix: Cell Coloring\n",
        "\n",
        "Cell coloring refers to a K-assembly mechanism in which cells not sharing nodes can be assigned to different color pools. This strategy allows then to update the global stiffness matrix color-wise without race conditions, since we are guaranteed to have non-overlapping updates.\n",
        "\n",
        "Unfortunately, this has remained a work in progress and it's included for future reference."
      ],
      "metadata": {
        "id": "OWBVDlautg8y"
      }
    },
    {
      "cell_type": "markdown",
      "source": [
        "## Coloring Strategies"
      ],
      "metadata": {
        "id": "mNkx9EXtPzkd"
      }
    },
    {
      "cell_type": "markdown",
      "source": [
        "### Graph Partitioning with PyMETIS\n",
        "\n",
        "Unfortunately PyMETIS, a Python wrapper to the METIS software, is producing colors with \"overlapping\" elements. Because of that, it is not possibile to use it as a partitioning algorithm."
      ],
      "metadata": {
        "id": "A4FP7ZEdqzDH"
      }
    },
    {
      "cell_type": "code",
      "source": [
        "%%capture\n",
        "!pip install pymetis"
      ],
      "metadata": {
        "id": "s7Aaxyfux_3F"
      },
      "execution_count": null,
      "outputs": []
    },
    {
      "cell_type": "code",
      "source": [
        "import pymetis"
      ],
      "metadata": {
        "id": "9n-jLyKnuNQu"
      },
      "execution_count": null,
      "outputs": []
    },
    {
      "cell_type": "code",
      "source": [
        "from collections import defaultdict\n",
        "\n",
        "def create_adjacency_list_naive(cells):\n",
        "    # Create a defaultdict to store the adjacency\n",
        "    adjacency = defaultdict(set)\n",
        "    # Iterate through each cell in the graph\n",
        "    for i, cell in enumerate(cells):\n",
        "        for j, other_cell in enumerate(cells):\n",
        "            if set(cell).isdisjoint(other_cell):\n",
        "                if i != j:\n",
        "                    adjacency[i].add(j)\n",
        "    return adjacency\n",
        "\n",
        "def create_adjacency_list(cells):\n",
        "    # Create a defaultdict to store the cells that include a given node\n",
        "    node2cell = defaultdict(set)\n",
        "    for i, cell in enumerate(cells):\n",
        "        for node in cell:\n",
        "            node2cell[node].add(i)\n",
        "    cells_set = set(list(range(len(cells))))\n",
        "    # Create a defaultdict to store the adjacency\n",
        "    adjacency = defaultdict(set)\n",
        "    # Iterate through each cell in the graph\n",
        "    for i, cell in enumerate(cells):\n",
        "        nodes = set([c for node in cell for c in node2cell[node]])\n",
        "        adjacency[i].update(cells_set.difference(nodes))\n",
        "    return adjacency\n",
        "\n",
        "# Example usage\n",
        "grid = generate_grid(lcar=0.4)\n",
        "adjacency = create_adjacency_list(grid.cells)\n",
        "adjacency_naive = create_adjacency_list_naive(grid.cells)\n",
        "\n",
        "for k in adjacency_naive.keys():\n",
        "    # list(adjacency[k]).sort() \n",
        "    # list(adjacency_naive[k]).sort()\n",
        "    if adjacency_naive[k] != adjacency[k]:\n",
        "        # print(f'not matching: {adjacency[k]} vs. {adjacency_naive[k]}')\n",
        "        print('MISMATCH!!!', adjacency[k] - adjacency_naive[k])\n",
        "        if k > 10:\n",
        "            break"
      ],
      "metadata": {
        "id": "8Nsu2z4ABiBy"
      },
      "execution_count": null,
      "outputs": []
    },
    {
      "cell_type": "code",
      "source": [
        "grid = generate_grid(lcar=0.8)\n",
        "n_parts = 16\n",
        "# adjacency = create_adjacency_list(grid.cells)\n",
        "adjacency = create_adjacency_list_naive(grid.cells)\n",
        "\n",
        "n_cuts, membership = pymetis.part_graph(n_parts, adjacency=adjacency)\n",
        "\n",
        "print(f'n_nodes: {grid.get_num_cells() * grid.get_num_nodes_per_cell()}')\n",
        "print(f'n_cells: {grid.get_num_cells()} (n_parts: {n_parts}) - Cells per part: {(grid.get_num_cells() / n_parts) / grid.get_num_cells() * 100}%')\n",
        "print(f'n_cuts: {n_cuts}')\n",
        "print('-' * 80)\n",
        "\n",
        "for part in range(n_parts):\n",
        "    cells_part = np.argwhere(np.array(membership) == part).ravel()\n",
        "\n",
        "    nodes_idx_part = grid.cells[cells_part].flatten()\n",
        "    unique_nodes_idx_part = np.unique(nodes_idx_part)\n",
        "\n",
        "    if len(nodes_idx_part) != len(unique_nodes_idx_part):\n",
        "        nodes_part = grid.nodes[unique_nodes_idx_part]\n",
        "        nodes_idx_part.sort()\n",
        "        unique_nodes_idx_part.sort()\n",
        "        print(part, len(nodes_idx_part), nodes_idx_part)\n",
        "        print(part, len(unique_nodes_idx_part), unique_nodes_idx_part)\n",
        "        print(part, len(nodes_idx_part) - len(unique_nodes_idx_part))\n",
        "        nodal_values = np.random.randn(len(nodes_part))\n",
        "        nodes_x = grid.nodes[:, 0]\n",
        "        nodes_y = grid.nodes[:, 1]\n",
        "        # Plot the finite element mesh\n",
        "        for element in grid.cells[cells_part]:\n",
        "            x = [nodes_x[element[i]] for i in range(len(element))]\n",
        "            y = [nodes_y[element[i]] for i in range(len(element))]\n",
        "            plt.fill(x, y, edgecolor='black', fill=True)\n",
        "        plt.axis('equal')\n",
        "        plt.show()\n",
        "        print('-' * 80)"
      ],
      "metadata": {
        "id": "JCQjEKRfmO5K"
      },
      "execution_count": null,
      "outputs": []
    },
    {
      "cell_type": "code",
      "source": [
        "def color_cells(grid, n_colors=64):\n",
        "    \"\"\"\n",
        "    The returned partitions are already sorted (being sorted should help a bit\n",
        "    with cache locality...).\n",
        "    \"\"\"\n",
        "    adjacency = create_adjacency_list(grid.cells)\n",
        "    _, membership = pymetis.part_graph(n_colors, adjacency=adjacency)\n",
        "    partitions = []\n",
        "    for color in range(n_colors):\n",
        "        cellids_part = np.argwhere(np.array(membership) == color).flatten()\n",
        "        if len(cellids_part) > 0:\n",
        "            partitions.append(cellids_part)\n",
        "            # Check whether the nodes in the partition are all unique, and so\n",
        "            # non-overlapping\n",
        "\n",
        "            # nodes_part = grid.cells[cellids_part].flatten()\n",
        "            # unique_nodes_idx = np.unique(nodes_part)\n",
        "            # unique_nodes_part = grid.nodes[unique_nodes_idx]\n",
        "\n",
        "            nodes_idx_part = grid.cells[cellids_part].flatten()\n",
        "            unique_nodes_idx_part = np.unique(nodes_idx_part)\n",
        "            # nodes_part = grid.nodes[unique_nodes_idx_part]\n",
        "            # nodes_idx_part.sort()\n",
        "            # unique_nodes_idx_part.sort()\n",
        "            # if len(nodes_part) != len(unique_nodes_part):\n",
        "            if len(nodes_idx_part) != len(unique_nodes_idx_part):\n",
        "                if color != n_colors - 1:\n",
        "                    # raise ValueError('Overlapping nodes in two or more partitions.')\n",
        "                    print(f'WARNING. Overlapping nodes in partition n.{color}.')\n",
        "                else:\n",
        "                    print(f'WARNING. Overlapping nodes in last partition.')\n",
        "    return partitions\n",
        "\n",
        "grid = generate_grid(lcar=0.6)\n",
        "color_cells(grid, n_colors=8)"
      ],
      "metadata": {
        "id": "XTYzfKs82zw7",
        "colab": {
          "base_uri": "https://localhost:8080/"
        },
        "outputId": "cd3ecdf3-1f58-4b48-b342-b6c8a3bed9dc"
      },
      "execution_count": null,
      "outputs": [
        {
          "output_type": "stream",
          "name": "stdout",
          "text": [
            "WARNING. Overlapping nodes in partition n.2.\n",
            "WARNING. Overlapping nodes in partition n.5.\n"
          ]
        },
        {
          "output_type": "execute_result",
          "data": {
            "text/plain": [
              "[array([ 1, 11, 19, 21, 28, 40, 61, 73, 76]),\n",
              " array([ 5,  7,  9, 18, 23, 38, 48, 56, 59, 67]),\n",
              " array([13, 16, 17, 22, 30, 31, 35, 68, 74]),\n",
              " array([ 4, 41, 43, 52, 53, 57, 58, 60, 62, 66]),\n",
              " array([ 2,  6, 10, 12, 24, 29, 46, 49, 70]),\n",
              " array([27, 33, 39, 42, 47, 51, 54, 65, 69, 75]),\n",
              " array([ 0, 15, 20, 25, 26, 32, 37, 44, 45, 71, 72]),\n",
              " array([ 3,  8, 14, 34, 36, 50, 55, 63, 64])]"
            ]
          },
          "metadata": {},
          "execution_count": 49
        }
      ]
    },
    {
      "cell_type": "markdown",
      "source": [
        "### Naive Greedy Coloring Algorithm\n",
        "\n",
        "Greedy Coloring Algorithm, as described in these [lecture notes](http://paulino.princeton.edu/education_resources/GreedyColoring/GreedyColoring.pdf)):\n",
        "\n",
        "0. Set the maximum color size, _e.g._, according to the number of threads available\n",
        "1. Get the next element in the mesh\n",
        "2. Traverse all its neighbors, and see what colors cannot be used\n",
        "3. Pick the next available color\n",
        "4. If color is already full, go to 3\n",
        "5. Color this element with this color\n",
        "6. If this is not the last element, go to 1\n",
        "\n",
        "The greatest advantage of this coloring algorithm is that the colors will have at most $N$ elements, making is suitable to precisely map colors to GPU resources."
      ],
      "metadata": {
        "id": "_zZ0_FGPaCGO"
      }
    },
    {
      "cell_type": "code",
      "source": [
        "from collections import defaultdict\n",
        "\n",
        "grid = generate_grid(lcar=0.6)\n",
        "cells = grid.cells\n",
        "\n",
        "# Create a defaultdict to store the all cells to which a given node belongs to\n",
        "node2cell = defaultdict(set)\n",
        "for i, cell in enumerate(cells):\n",
        "    for node in cell:\n",
        "        node2cell[node].add(i)\n",
        "cell_neighbors = defaultdict(set)\n",
        "for i, cell in enumerate(cells):\n",
        "    for node in cell:\n",
        "        neighbors = node2cell[node] - {i} # Do not include the cell itself\n",
        "        cell_neighbors[i].update(neighbors)\n",
        "# # Init first element color\n",
        "# cells_colors = {0: 0} # {Cellid n.0: color n.0}\n",
        "# n_colors = 1\n",
        "# for i, cell in enumerate(cells):\n",
        "#     if i == 0:\n",
        "#         continue\n",
        "\n",
        "#     neighbors_colors = [cells_colors[neighbor] for neighbor in cell_neighbors[i] if neighbor in cells_colors]\n",
        "#     # for neighbor in cell_neighbors[i]:\n",
        "\n",
        "#     #     for neighbor_id in neighbors:\n",
        "#     #         neighbor_color = neighbors_colors[neighbor_id]\n",
        "\n",
        "\n",
        "# # cells_set = set(list(range(len(cells))))\n",
        "# # # Create a defaultdict to store the adjacency\n",
        "# # adjacency = defaultdict(set)\n",
        "# # # Iterate through each cell in the graph\n",
        "# # for i, cell in enumerate(cells):\n",
        "# #     nodes = set([c for node in cell for c in node2cell[node]])\n",
        "# #     adjacency[i].update(cells_set.difference(nodes))\n",
        "# # # return adjacency"
      ],
      "metadata": {
        "id": "dojzSejtaMYV"
      },
      "execution_count": null,
      "outputs": []
    },
    {
      "cell_type": "markdown",
      "source": [
        "### Greedy Coloring via NetworkX\n",
        "\n",
        "Coloring via NetworkX is fast and effective, but doesn't ensure that each color will contain a constant number of elements. Because of this, each color might have a different number of elements, eventually causing GPU under-utilization."
      ],
      "metadata": {
        "id": "MnEG2ck-toRM"
      }
    },
    {
      "cell_type": "code",
      "source": [
        "from collections import defaultdict\n",
        "\n",
        "@nb.jit(nopython=False)\n",
        "def get_neighbors(cells):\n",
        "    # Create a dict to store the all cells to which a given node belongs to\n",
        "    node2cell = defaultdict(set)\n",
        "    for i, cell in enumerate(cells):\n",
        "        for node in cell:\n",
        "            node2cell[node].add(i)\n",
        "    cell_neighbors = defaultdict(set)\n",
        "    for i, cell in enumerate(cells):\n",
        "        for node in cell:\n",
        "            neighbors = node2cell[node] - {i} # Do not include the cell itself\n",
        "            cell_neighbors[i].update(neighbors)\n",
        "    return cell_neighbors"
      ],
      "metadata": {
        "id": "rFBNNn3EuO1O"
      },
      "execution_count": null,
      "outputs": []
    },
    {
      "cell_type": "code",
      "source": [
        "%%capture\n",
        "import networkx as nx\n",
        "\n",
        "grid = generate_grid(lcar=0.5)\n",
        "\n",
        "def color_cells(cells):\n",
        "    cell_neighbors = get_neighbors(cells)\n",
        "    coloring = nx.greedy_color(nx.Graph(cell_neighbors))\n",
        "    colored_cells = np.array(list(coloring.keys()))\n",
        "    colors = np.array(list(coloring.values()))\n",
        "    n_colors = colors.max() + 1\n",
        "    partitions = []\n",
        "    for color in range(n_colors):\n",
        "        partition = colored_cells[colors == color]\n",
        "        # print(f'cells in color n.{color}: {len(partition)}')\n",
        "        partitions.append(partition)\n",
        "    return partitions\n",
        "\n",
        "color_cells(grid.cells)"
      ],
      "metadata": {
        "id": "7vhSBA_xpP6C"
      },
      "execution_count": null,
      "outputs": []
    },
    {
      "cell_type": "markdown",
      "source": [
        "## Colored FEM on GPU"
      ],
      "metadata": {
        "id": "YtZ-nBYD6sGS"
      }
    },
    {
      "cell_type": "code",
      "source": [
        "K, f, a, weak_form, dh, dofs_glob = generate_fem_problem(lcar=0.04, as_dok=True)\n",
        "print(f'Number of cells: {len(dh.grid.cells)}')\n",
        "print(f'Number of nodes: {len(dh.grid.cells) * dh.grid.get_num_nodes_per_cell()}')\n",
        "print(f'K dimensions: {K.shape} (total: {math.prod(K.shape)})')"
      ],
      "metadata": {
        "id": "gBZSKTy1KG8I",
        "colab": {
          "base_uri": "https://localhost:8080/"
        },
        "outputId": "ca8ef637-7b81-4185-ff74-11dc620f6820"
      },
      "execution_count": null,
      "outputs": [
        {
          "output_type": "stream",
          "name": "stdout",
          "text": [
            "Number of cells: 13488\n",
            "Number of nodes: 40464\n",
            "K dimensions: (13830, 13830) (total: 191268900)\n"
          ]
        }
      ]
    },
    {
      "cell_type": "code",
      "source": [
        "@nb.jit(nopython=True)\n",
        "def get_Kf_entries(K, f, dofs, ke, re):\n",
        "    \"\"\"\n",
        "    Populate ke and re entries from K and f based on dofs\n",
        "\n",
        "    dofs: shape: (block_sz, n_dofs_per_cell)\n",
        "    ke: shape: (block_sz, n_dofs_per_cell, n_dofs_per_cell)\n",
        "    re: shape: (block_sz, n_dofs_per_cell)\n",
        "    \"\"\"\n",
        "    color_sz = dofs.shape[0]\n",
        "    for k in range(color_sz):\n",
        "        for i, dof_i in enumerate(dofs[k]):\n",
        "            re[k, i] = f[dof_i]\n",
        "            for j, dof_j in enumerate(dofs[k]):\n",
        "                ke[k, i, j] = K.get((dof_i, dof_j), float32(0))\n",
        "\n",
        "@nb.jit(nopython=True)\n",
        "def set_Kf_entries(ke, re, dofs, K, f):\n",
        "    \"\"\"\n",
        "    Update K and f from ke and re based on dofs\n",
        "\n",
        "    ke: shape: (block_sz, n_dofs_per_cell, n_dofs_per_cell)\n",
        "    re: shape: (block_sz, n_dofs_per_cell)\n",
        "    dofs: shape: (block_sz, n_dofs_per_cell)\n",
        "    \"\"\"\n",
        "    color_sz = dofs.shape[0]\n",
        "    for k in range(color_sz):\n",
        "        for i, dof_i in enumerate(dofs[k]):\n",
        "            f[dof_i] = re[k, i]\n",
        "            for j, dof_j in enumerate(dofs[k]):\n",
        "                K[(dof_i, dof_j)] = ke[k, i, j]\n",
        "\n",
        "@nb.jit(nopython=True)\n",
        "def get_coo_matrix_components(Knumba):\n",
        "    nnz = len(Knumba)\n",
        "    data = np.empty(nnz, dtype=np.float32)\n",
        "    rows = np.empty(nnz, dtype=np.int32)\n",
        "    cols = np.empty(nnz, dtype=np.int32)\n",
        "    for k, (i, j) in enumerate(Knumba.keys()):\n",
        "        data[k] = Knumba[(i, j)]\n",
        "        rows[k] = i\n",
        "        cols[k] = j\n",
        "    return data, rows, cols\n",
        "\n",
        "def colored_k_assembly_gpu(K, f, a, weak_form, dh, return_numba_dict=False):\n",
        "    n_cells = dh.grid.get_num_cells()\n",
        "    n_dims = dh.grid.n_dim\n",
        "    n_dofs_cell = dh.ndofs_per_cell(dh.grid)\n",
        "    n_nodes_cell = dh.grid.nnodes_per_cell()\n",
        "    # Partition/color the cells\n",
        "    cellids_partitions = color_cells(dh.grid.cells)\n",
        "    color_sz = max([len(i) for i in cellids_partitions])\n",
        "    # Specify CUDA kernel dimensions\n",
        "    threadsperblock = 128\n",
        "    blockspergrid = (color_sz + (threadsperblock - 1)) // threadsperblock\n",
        "    # Init local variables for element loop (re-use them across iterations)\n",
        "    dofs = np.empty((color_sz, n_dofs_cell), dtype=np.int32)\n",
        "    xe = np.empty((color_sz, n_nodes_cell, n_dims), dtype=np.float32) \n",
        "    ue = np.empty((color_sz, n_dofs_cell), dtype=np.float32)\n",
        "    ke = np.zeros((color_sz, n_dofs_cell, n_dofs_cell), dtype=np.float32)\n",
        "    re = np.zeros((color_sz, n_dofs_cell), dtype=np.float32)\n",
        "    # Move to device the following data once for all colors\n",
        "    stiffness_d = cuda.to_device(weak_form.material.stiffness)\n",
        "    weights_d = cuda.to_device(weak_form.element.weights)\n",
        "    # The Dict.empty() constructs a typed dictionary required in Numba\n",
        "    Knumba = Dict.empty(\n",
        "        key_type=types.UniTuple(types.int32, 2),\n",
        "        value_type=types.float32,\n",
        "    )\n",
        "    # Loop over colors, fill GPU buffers and finally accumulate\n",
        "    for color, cellids in enumerate(cellids_partitions):\n",
        "        # Setup kernel inputs\n",
        "        dofs.fill(0)\n",
        "        xe.fill(0)\n",
        "        ue.fill(0)\n",
        "        xe = dh.grid.nodes[dh.grid.cells[cellids]]\n",
        "        # NOTE: The methods dh.grid.get_coordinates() and dh.get_cell_dofs() are\n",
        "        # implemented in Numba to handle multi-dimensional indexing\n",
        "        get_dofs(dh.grid.cells[cellids], a, dofs, ue)\n",
        "        xe_d = cuda.to_device(xe)\n",
        "        ue_d = cuda.to_device(ue)\n",
        "        # Setup kernel input-outputs (ke and re are accumulated)\n",
        "        get_Kf_entries(Knumba, f, dofs, ke, re)\n",
        "        re_d = cuda.to_device(re)\n",
        "        ke_d = cuda.to_device(ke)\n",
        "        # Run kernel\n",
        "        elem_routine_kernel[blockspergrid, threadsperblock](weak_form.thickness,\n",
        "            stiffness_d, weights_d, xe_d, ue_d, re_d, ke_d)\n",
        "        # Retrieve data from device\n",
        "        re = re_d.copy_to_host()\n",
        "        ke = ke_d.copy_to_host()\n",
        "        # Update Knumba and f components\n",
        "        set_Kf_entries(ke, re, dofs, Knumba, f)\n",
        "    if return_numba_dict:\n",
        "        return Knumba, f\n",
        "    else:\n",
        "        # Transform Numba matrix into Scipy sparse matrix in COO-format\n",
        "        data, rows, cols = get_coo_matrix_components(Knumba)\n",
        "        K = coo_matrix((data, (rows, cols)), dtype=np.float32).todok()\n",
        "        return K, f\n",
        "\n",
        "K_gpu, f_gpu = colored_k_assembly_gpu(K, f, a, weak_form, dh)\n",
        "print(f'K dimensions: {K_gpu.shape} (total: {math.prod(K_gpu.shape)}, nnz: {K_gpu.nnz})')\n",
        "K_gpu"
      ],
      "metadata": {
        "id": "avy8ZBv_7Vm9"
      },
      "execution_count": null,
      "outputs": []
    },
    {
      "cell_type": "code",
      "source": [
        "plt.spy(K_gpu)\n",
        "plt.show()"
      ],
      "metadata": {
        "id": "lgbIzH5qelgu"
      },
      "execution_count": null,
      "outputs": []
    },
    {
      "cell_type": "code",
      "source": [
        "K_free = K_gpu.tocsc()[:, dofs_glob['free']].tocsr()[dofs_glob['free'], :]\n",
        "K_prescribed = K_gpu.tocsc()[:, dofs_glob['prescribed']].tocsr()[dofs_glob['free'], :]\n",
        "f_glob = -K_prescribed @ a[dofs_glob['prescribed']]\n",
        "scipy.sparse.linalg.minres(K_free, f_glob)"
      ],
      "metadata": {
        "id": "Vi84oSRjDS_g"
      },
      "execution_count": null,
      "outputs": []
    },
    {
      "cell_type": "markdown",
      "source": [
        "# Converting Notebook to PDF\n",
        "\n",
        "The following two cells can be ignored for grading, as they just convert this notebook into a PDF file."
      ],
      "metadata": {
        "id": "pQI1nqgo39z7"
      }
    },
    {
      "cell_type": "code",
      "source": [
        "%%capture\n",
        "!apt-get update\n",
        "!apt-get install -y texlive-xetex texlive-fonts-recommended texlive-plain-generic\n",
        "!apt-get install -y inkscape\n",
        "!add-apt-repository -y universe\n",
        "!add-apt-repository -y ppa:inkscape.dev/stable\n",
        "!apt-get update -y\n",
        "!apt install -y inkscape"
      ],
      "metadata": {
        "id": "_PXT059d30qG"
      },
      "execution_count": null,
      "outputs": []
    },
    {
      "cell_type": "code",
      "source": [
        "%%capture\n",
        "import os\n",
        "import re\n",
        "\n",
        "document_name = 'TRA105 GPU-accelerated Computational Methods using Python and CUDA'\n",
        "pdf_dir = os.path.join(os.path.abspath(''), 'drive', 'MyDrive')\n",
        "pdf_dir = os.path.join(pdf_dir, 'Colab Notebooks', 'tra105')\n",
        "pdf_filename = re.escape(os.path.join(pdf_dir, document_name)) + '.ipynb'\n",
        "\n",
        "!jupyter nbconvert --to pdf --TemplateExporter.exclude_input=False $pdf_filename"
      ],
      "metadata": {
        "id": "mVgdQGHAtQJm"
      },
      "execution_count": null,
      "outputs": []
    },
    {
      "cell_type": "code",
      "source": [],
      "metadata": {
        "id": "5uxQbSfrVw1V"
      },
      "execution_count": null,
      "outputs": []
    }
  ]
}